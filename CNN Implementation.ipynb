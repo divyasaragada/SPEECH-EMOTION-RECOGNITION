{
 "cells": [
  {
   "cell_type": "code",
   "execution_count": 76,
   "metadata": {},
   "outputs": [],
   "source": [
    "import numpy as np\n",
    "import pandas as pd\n",
    "from sklearn.model_selection import train_test_split\n",
    "import seaborn as sn"
   ]
  },
  {
   "cell_type": "code",
   "execution_count": 72,
   "metadata": {},
   "outputs": [
    {
     "name": "stdout",
     "output_type": "stream",
     "text": [
      "Collecting seabornNote: you may need to restart the kernel to use updated packages.\n",
      "\n",
      "  Downloading seaborn-0.11.1-py3-none-any.whl (285 kB)\n",
      "Requirement already satisfied: numpy>=1.15 in c:\\users\\divya\\anaconda3\\envs\\tensorflow\\lib\\site-packages (from seaborn) (1.20.2)\n",
      "Requirement already satisfied: scipy>=1.0 in c:\\users\\divya\\anaconda3\\envs\\tensorflow\\lib\\site-packages (from seaborn) (1.6.2)\n",
      "Requirement already satisfied: matplotlib>=2.2 in c:\\users\\divya\\anaconda3\\envs\\tensorflow\\lib\\site-packages (from seaborn) (3.3.4)\n",
      "Requirement already satisfied: pandas>=0.23 in c:\\users\\divya\\anaconda3\\envs\\tensorflow\\lib\\site-packages (from seaborn) (1.2.5)\n",
      "Requirement already satisfied: pillow>=6.2.0 in c:\\users\\divya\\anaconda3\\envs\\tensorflow\\lib\\site-packages (from matplotlib>=2.2->seaborn) (8.2.0)\n",
      "Requirement already satisfied: kiwisolver>=1.0.1 in c:\\users\\divya\\anaconda3\\envs\\tensorflow\\lib\\site-packages (from matplotlib>=2.2->seaborn) (1.3.1)\n",
      "Requirement already satisfied: pyparsing!=2.0.4,!=2.1.2,!=2.1.6,>=2.0.3 in c:\\users\\divya\\anaconda3\\envs\\tensorflow\\lib\\site-packages (from matplotlib>=2.2->seaborn) (2.4.7)\n",
      "Requirement already satisfied: python-dateutil>=2.1 in c:\\users\\divya\\anaconda3\\envs\\tensorflow\\lib\\site-packages (from matplotlib>=2.2->seaborn) (2.8.1)\n",
      "Requirement already satisfied: cycler>=0.10 in c:\\users\\divya\\anaconda3\\envs\\tensorflow\\lib\\site-packages (from matplotlib>=2.2->seaborn) (0.10.0)\n",
      "Requirement already satisfied: six in c:\\users\\divya\\anaconda3\\envs\\tensorflow\\lib\\site-packages (from cycler>=0.10->matplotlib>=2.2->seaborn) (1.16.0)\n",
      "Requirement already satisfied: pytz>=2017.3 in c:\\users\\divya\\anaconda3\\envs\\tensorflow\\lib\\site-packages (from pandas>=0.23->seaborn) (2021.1)\n",
      "Installing collected packages: seaborn\n",
      "Successfully installed seaborn-0.11.1\n"
     ]
    }
   ],
   "source": [
    "pip install seaborn"
   ]
  },
  {
   "cell_type": "markdown",
   "metadata": {},
   "source": [
    "## Create train and test data"
   ]
  },
  {
   "cell_type": "code",
   "execution_count": 2,
   "metadata": {},
   "outputs": [],
   "source": [
    "dataframe=pd.read_csv(\"C:\\\\Users\\\\DIVYA\\\\Documents\\\\MACHINELEARNINGWORKSHOPFILES\\\\RAVDESS,TESS---new.csv\")"
   ]
  },
  {
   "cell_type": "code",
   "execution_count": 3,
   "metadata": {},
   "outputs": [],
   "source": [
    "from sklearn.preprocessing import LabelEncoder\n",
    "dataframe['Emotion']=LabelEncoder().fit_transform(dataframe['Emotion'])\n",
    "y=dataframe[[\"Emotion\"]]\n",
    "x=dataframe.drop(\"Emotion\",axis=1)\n",
    "x=x.iloc[:,1:]\n",
    "\n",
    "xtrain,xtest,ytrain,ytest= train_test_split(x,y,test_size=0.3,random_state=4)"
   ]
  },
  {
   "cell_type": "code",
   "execution_count": 77,
   "metadata": {},
   "outputs": [
    {
     "name": "stdout",
     "output_type": "stream",
     "text": [
      "[[7]\n",
      " [2]\n",
      " [0]\n",
      " ...\n",
      " [0]\n",
      " [5]\n",
      " [6]]\n"
     ]
    }
   ],
   "source": [
    "#LABEL ENCODING VALUES\n",
    "\n",
    "emotions={\n",
    "  0:'angry',\n",
    "  1:'calm',\n",
    "  2:'disguist',\n",
    "  3:'fear',\n",
    "  4:'happy',\n",
    "  5:'neutral',\n",
    "  6:'sad',\n",
    "  7:'surprised'\n",
    "}\n",
    "print(ytrain)"
   ]
  },
  {
   "cell_type": "code",
   "execution_count": 39,
   "metadata": {},
   "outputs": [
    {
     "name": "stdout",
     "output_type": "stream",
     "text": [
      "(2968, 180) (1272, 180)\n"
     ]
    }
   ],
   "source": [
    "print(xtrain.shape,xtest.shape)"
   ]
  },
  {
   "cell_type": "code",
   "execution_count": 78,
   "metadata": {},
   "outputs": [
    {
     "name": "stdout",
     "output_type": "stream",
     "text": [
      "(2968, 1) (1272, 1)\n"
     ]
    }
   ],
   "source": [
    "print(ytrain.shape,ytest.shape)"
   ]
  },
  {
   "cell_type": "code",
   "execution_count": 84,
   "metadata": {},
   "outputs": [
    {
     "data": {
      "text/html": [
       "<div>\n",
       "<style scoped>\n",
       "    .dataframe tbody tr th:only-of-type {\n",
       "        vertical-align: middle;\n",
       "    }\n",
       "\n",
       "    .dataframe tbody tr th {\n",
       "        vertical-align: top;\n",
       "    }\n",
       "\n",
       "    .dataframe thead th {\n",
       "        text-align: right;\n",
       "    }\n",
       "</style>\n",
       "<table border=\"1\" class=\"dataframe\">\n",
       "  <thead>\n",
       "    <tr style=\"text-align: right;\">\n",
       "      <th></th>\n",
       "      <th>0</th>\n",
       "      <th>1</th>\n",
       "      <th>2</th>\n",
       "      <th>3</th>\n",
       "      <th>4</th>\n",
       "      <th>5</th>\n",
       "      <th>6</th>\n",
       "      <th>7</th>\n",
       "      <th>8</th>\n",
       "      <th>9</th>\n",
       "      <th>...</th>\n",
       "      <th>170</th>\n",
       "      <th>171</th>\n",
       "      <th>172</th>\n",
       "      <th>173</th>\n",
       "      <th>174</th>\n",
       "      <th>175</th>\n",
       "      <th>176</th>\n",
       "      <th>177</th>\n",
       "      <th>178</th>\n",
       "      <th>179</th>\n",
       "    </tr>\n",
       "  </thead>\n",
       "  <tbody>\n",
       "    <tr>\n",
       "      <th>3451</th>\n",
       "      <td>-340.585358</td>\n",
       "      <td>50.505756</td>\n",
       "      <td>-43.175365</td>\n",
       "      <td>8.229817</td>\n",
       "      <td>-27.057051</td>\n",
       "      <td>7.879982</td>\n",
       "      <td>-15.267695</td>\n",
       "      <td>-6.054296</td>\n",
       "      <td>-12.611725</td>\n",
       "      <td>14.475309</td>\n",
       "      <td>...</td>\n",
       "      <td>2.365119e-03</td>\n",
       "      <td>1.974568e-03</td>\n",
       "      <td>2.404226e-03</td>\n",
       "      <td>2.552809e-03</td>\n",
       "      <td>9.966930e-04</td>\n",
       "      <td>2.762912e-04</td>\n",
       "      <td>7.187716e-05</td>\n",
       "      <td>5.285306e-05</td>\n",
       "      <td>1.188385e-05</td>\n",
       "      <td>2.059495e-06</td>\n",
       "    </tr>\n",
       "    <tr>\n",
       "      <th>1341</th>\n",
       "      <td>-465.343933</td>\n",
       "      <td>91.370842</td>\n",
       "      <td>30.462723</td>\n",
       "      <td>5.500630</td>\n",
       "      <td>-6.919105</td>\n",
       "      <td>-0.814426</td>\n",
       "      <td>-13.402053</td>\n",
       "      <td>7.010404</td>\n",
       "      <td>-23.884874</td>\n",
       "      <td>4.047946</td>\n",
       "      <td>...</td>\n",
       "      <td>1.887293e-03</td>\n",
       "      <td>1.328265e-03</td>\n",
       "      <td>8.508872e-04</td>\n",
       "      <td>4.222009e-04</td>\n",
       "      <td>2.308723e-04</td>\n",
       "      <td>7.444414e-05</td>\n",
       "      <td>2.771455e-05</td>\n",
       "      <td>4.298987e-06</td>\n",
       "      <td>4.593720e-07</td>\n",
       "      <td>3.926021e-08</td>\n",
       "    </tr>\n",
       "    <tr>\n",
       "      <th>1166</th>\n",
       "      <td>-411.188446</td>\n",
       "      <td>63.769764</td>\n",
       "      <td>-14.824328</td>\n",
       "      <td>10.112123</td>\n",
       "      <td>-4.868372</td>\n",
       "      <td>15.661233</td>\n",
       "      <td>-31.723658</td>\n",
       "      <td>-8.409113</td>\n",
       "      <td>-22.686392</td>\n",
       "      <td>-8.415514</td>\n",
       "      <td>...</td>\n",
       "      <td>1.099902e-04</td>\n",
       "      <td>1.197654e-04</td>\n",
       "      <td>1.225286e-04</td>\n",
       "      <td>9.603408e-05</td>\n",
       "      <td>4.602884e-05</td>\n",
       "      <td>1.932352e-05</td>\n",
       "      <td>7.656012e-06</td>\n",
       "      <td>2.147210e-06</td>\n",
       "      <td>4.831798e-07</td>\n",
       "      <td>4.566297e-08</td>\n",
       "    </tr>\n",
       "    <tr>\n",
       "      <th>2530</th>\n",
       "      <td>-425.442749</td>\n",
       "      <td>53.873550</td>\n",
       "      <td>-1.577813</td>\n",
       "      <td>-9.195426</td>\n",
       "      <td>-12.710704</td>\n",
       "      <td>9.624842</td>\n",
       "      <td>-10.503573</td>\n",
       "      <td>7.587773</td>\n",
       "      <td>-24.320599</td>\n",
       "      <td>6.661020</td>\n",
       "      <td>...</td>\n",
       "      <td>9.438109e-04</td>\n",
       "      <td>6.990420e-04</td>\n",
       "      <td>5.438702e-04</td>\n",
       "      <td>3.106352e-04</td>\n",
       "      <td>1.177289e-04</td>\n",
       "      <td>4.355398e-05</td>\n",
       "      <td>1.646106e-05</td>\n",
       "      <td>3.506113e-06</td>\n",
       "      <td>5.840812e-07</td>\n",
       "      <td>8.471959e-08</td>\n",
       "    </tr>\n",
       "    <tr>\n",
       "      <th>3953</th>\n",
       "      <td>-593.025330</td>\n",
       "      <td>81.248825</td>\n",
       "      <td>-26.873341</td>\n",
       "      <td>36.284527</td>\n",
       "      <td>-5.675488</td>\n",
       "      <td>4.694328</td>\n",
       "      <td>-5.918098</td>\n",
       "      <td>-0.002145</td>\n",
       "      <td>-8.869593</td>\n",
       "      <td>1.678475</td>\n",
       "      <td>...</td>\n",
       "      <td>1.667884e-11</td>\n",
       "      <td>3.583965e-11</td>\n",
       "      <td>3.928055e-11</td>\n",
       "      <td>5.579654e-11</td>\n",
       "      <td>4.180015e-11</td>\n",
       "      <td>6.227859e-11</td>\n",
       "      <td>3.791050e-11</td>\n",
       "      <td>6.286045e-11</td>\n",
       "      <td>3.527321e-11</td>\n",
       "      <td>3.965835e-11</td>\n",
       "    </tr>\n",
       "  </tbody>\n",
       "</table>\n",
       "<p>5 rows × 180 columns</p>\n",
       "</div>"
      ],
      "text/plain": [
       "               0          1          2          3          4          5  \\\n",
       "3451 -340.585358  50.505756 -43.175365   8.229817 -27.057051   7.879982   \n",
       "1341 -465.343933  91.370842  30.462723   5.500630  -6.919105  -0.814426   \n",
       "1166 -411.188446  63.769764 -14.824328  10.112123  -4.868372  15.661233   \n",
       "2530 -425.442749  53.873550  -1.577813  -9.195426 -12.710704   9.624842   \n",
       "3953 -593.025330  81.248825 -26.873341  36.284527  -5.675488   4.694328   \n",
       "\n",
       "              6         7          8          9  ...           170  \\\n",
       "3451 -15.267695 -6.054296 -12.611725  14.475309  ...  2.365119e-03   \n",
       "1341 -13.402053  7.010404 -23.884874   4.047946  ...  1.887293e-03   \n",
       "1166 -31.723658 -8.409113 -22.686392  -8.415514  ...  1.099902e-04   \n",
       "2530 -10.503573  7.587773 -24.320599   6.661020  ...  9.438109e-04   \n",
       "3953  -5.918098 -0.002145  -8.869593   1.678475  ...  1.667884e-11   \n",
       "\n",
       "               171           172           173           174           175  \\\n",
       "3451  1.974568e-03  2.404226e-03  2.552809e-03  9.966930e-04  2.762912e-04   \n",
       "1341  1.328265e-03  8.508872e-04  4.222009e-04  2.308723e-04  7.444414e-05   \n",
       "1166  1.197654e-04  1.225286e-04  9.603408e-05  4.602884e-05  1.932352e-05   \n",
       "2530  6.990420e-04  5.438702e-04  3.106352e-04  1.177289e-04  4.355398e-05   \n",
       "3953  3.583965e-11  3.928055e-11  5.579654e-11  4.180015e-11  6.227859e-11   \n",
       "\n",
       "               176           177           178           179  \n",
       "3451  7.187716e-05  5.285306e-05  1.188385e-05  2.059495e-06  \n",
       "1341  2.771455e-05  4.298987e-06  4.593720e-07  3.926021e-08  \n",
       "1166  7.656012e-06  2.147210e-06  4.831798e-07  4.566297e-08  \n",
       "2530  1.646106e-05  3.506113e-06  5.840812e-07  8.471959e-08  \n",
       "3953  3.791050e-11  6.286045e-11  3.527321e-11  3.965835e-11  \n",
       "\n",
       "[5 rows x 180 columns]"
      ]
     },
     "execution_count": 84,
     "metadata": {},
     "output_type": "execute_result"
    }
   ],
   "source": [
    "xtrain.head()"
   ]
  },
  {
   "cell_type": "markdown",
   "metadata": {},
   "source": [
    "## Add an axis (extra dimension) to input sets---grey scale image-1"
   ]
  },
  {
   "cell_type": "code",
   "execution_count": 85,
   "metadata": {},
   "outputs": [
    {
     "name": "stdout",
     "output_type": "stream",
     "text": [
      "(2968, 180, 1) (1272, 180, 1)\n"
     ]
    }
   ],
   "source": [
    "x_traincnn = np.expand_dims(xtrain, axis=2)\n",
    "x_testcnn = np.expand_dims(xtest, axis=2)\n",
    "print(x_traincnn.shape,x_testcnn.shape)"
   ]
  },
  {
   "cell_type": "code",
   "execution_count": 86,
   "metadata": {},
   "outputs": [
    {
     "data": {
      "text/plain": [
       "(1272, 1)"
      ]
     },
     "execution_count": 86,
     "metadata": {},
     "output_type": "execute_result"
    }
   ],
   "source": [
    "ytrain=np.array(ytrain)\n",
    "ytest=np.array(ytest)\n",
    "ytest.shape"
   ]
  },
  {
   "cell_type": "markdown",
   "metadata": {},
   "source": [
    "## Building the Model using CNN"
   ]
  },
  {
   "cell_type": "code",
   "execution_count": 61,
   "metadata": {},
   "outputs": [],
   "source": [
    "import matplotlib.pyplot as plt\n",
    "import tensorflow.keras as keras\n",
    "\n",
    "from keras.preprocessing import sequence\n",
    "from keras.models import Sequential\n",
    "from keras.layers import Dense, Embedding\n",
    "from keras.utils import to_categorical\n",
    "from keras.layers import Input, Flatten, Dropout, Activation\n",
    "from keras.layers import Conv1D, MaxPooling1D\n",
    "from keras.models import Model\n",
    "from keras.callbacks import ModelCheckpoint\n",
    "\n",
    "model = Sequential()\n",
    "#first layer\n",
    "model.add(Conv1D(64, 5,padding='same',\n",
    "                 input_shape=(180,1)))\n",
    "model.add(Activation('relu'))\n",
    "model.add(Dropout(0.1))\n",
    "model.add(MaxPooling1D(pool_size=(4)))\n",
    "\n",
    "#second layer\n",
    "model.add(Conv1D(128, 5,padding='same',))\n",
    "model.add(Activation('relu'))\n",
    "model.add(Dropout(0.1))\n",
    "model.add(MaxPooling1D(pool_size=(4)))\n",
    "\n",
    "#third layer\n",
    "model.add(Conv1D(256, 5,padding='same',))\n",
    "model.add(Activation('relu'))\n",
    "model.add(Dropout(0.1))\n",
    "\n",
    "#dense layer\n",
    "model.add(Flatten())\n",
    "model.add(Dense(8))\n",
    "model.add(Activation('softmax'))\n",
    "opt = keras.optimizers.Adam(lr=0.00005)"
   ]
  },
  {
   "cell_type": "code",
   "execution_count": 62,
   "metadata": {},
   "outputs": [
    {
     "name": "stdout",
     "output_type": "stream",
     "text": [
      "Model: \"sequential_3\"\n",
      "_________________________________________________________________\n",
      "Layer (type)                 Output Shape              Param #   \n",
      "=================================================================\n",
      "conv1d_9 (Conv1D)            (None, 180, 64)           384       \n",
      "_________________________________________________________________\n",
      "activation_12 (Activation)   (None, 180, 64)           0         \n",
      "_________________________________________________________________\n",
      "dropout_9 (Dropout)          (None, 180, 64)           0         \n",
      "_________________________________________________________________\n",
      "max_pooling1d_6 (MaxPooling1 (None, 45, 64)            0         \n",
      "_________________________________________________________________\n",
      "conv1d_10 (Conv1D)           (None, 45, 128)           41088     \n",
      "_________________________________________________________________\n",
      "activation_13 (Activation)   (None, 45, 128)           0         \n",
      "_________________________________________________________________\n",
      "dropout_10 (Dropout)         (None, 45, 128)           0         \n",
      "_________________________________________________________________\n",
      "max_pooling1d_7 (MaxPooling1 (None, 11, 128)           0         \n",
      "_________________________________________________________________\n",
      "conv1d_11 (Conv1D)           (None, 11, 256)           164096    \n",
      "_________________________________________________________________\n",
      "activation_14 (Activation)   (None, 11, 256)           0         \n",
      "_________________________________________________________________\n",
      "dropout_11 (Dropout)         (None, 11, 256)           0         \n",
      "_________________________________________________________________\n",
      "flatten_3 (Flatten)          (None, 2816)              0         \n",
      "_________________________________________________________________\n",
      "dense_3 (Dense)              (None, 8)                 22536     \n",
      "_________________________________________________________________\n",
      "activation_15 (Activation)   (None, 8)                 0         \n",
      "=================================================================\n",
      "Total params: 228,104\n",
      "Trainable params: 228,104\n",
      "Non-trainable params: 0\n",
      "_________________________________________________________________\n"
     ]
    }
   ],
   "source": [
    "model.summary()"
   ]
  },
  {
   "cell_type": "code",
   "execution_count": 63,
   "metadata": {},
   "outputs": [
    {
     "name": "stdout",
     "output_type": "stream",
     "text": [
      "Epoch 1/200\n",
      "186/186 [==============================] - 2s 12ms/step - loss: 2.5560 - accuracy: 0.2844 - val_loss: 1.4759 - val_accuracy: 0.4843\n",
      "Epoch 2/200\n",
      "186/186 [==============================] - 2s 11ms/step - loss: 1.6817 - accuracy: 0.4710 - val_loss: 1.1926 - val_accuracy: 0.6352\n",
      "Epoch 3/200\n",
      "186/186 [==============================] - 2s 11ms/step - loss: 1.3810 - accuracy: 0.5559 - val_loss: 1.0351 - val_accuracy: 0.6588\n",
      "Epoch 4/200\n",
      "186/186 [==============================] - 2s 10ms/step - loss: 1.2068 - accuracy: 0.6149 - val_loss: 0.9764 - val_accuracy: 0.6698\n",
      "Epoch 5/200\n",
      "186/186 [==============================] - 2s 11ms/step - loss: 1.0817 - accuracy: 0.6509 - val_loss: 0.9019 - val_accuracy: 0.6989\n",
      "Epoch 6/200\n",
      "186/186 [==============================] - 2s 11ms/step - loss: 1.0102 - accuracy: 0.6728 - val_loss: 0.8507 - val_accuracy: 0.7044\n",
      "Epoch 7/200\n",
      "186/186 [==============================] - 2s 10ms/step - loss: 0.9441 - accuracy: 0.6924 - val_loss: 0.8211 - val_accuracy: 0.7138\n",
      "Epoch 8/200\n",
      "186/186 [==============================] - 2s 12ms/step - loss: 0.8932 - accuracy: 0.7049 - val_loss: 0.8151 - val_accuracy: 0.7288\n",
      "Epoch 9/200\n",
      "186/186 [==============================] - 2s 11ms/step - loss: 0.8581 - accuracy: 0.7139 - val_loss: 0.7595 - val_accuracy: 0.7303\n",
      "Epoch 10/200\n",
      "186/186 [==============================] - 2s 11ms/step - loss: 0.8189 - accuracy: 0.7247 - val_loss: 0.7812 - val_accuracy: 0.7280\n",
      "Epoch 11/200\n",
      "186/186 [==============================] - 2s 13ms/step - loss: 0.7902 - accuracy: 0.7369 - val_loss: 0.7292 - val_accuracy: 0.7406\n",
      "Epoch 12/200\n",
      "186/186 [==============================] - 2s 10ms/step - loss: 0.7745 - accuracy: 0.7355 - val_loss: 0.7169 - val_accuracy: 0.7429\n",
      "Epoch 13/200\n",
      "186/186 [==============================] - 2s 10ms/step - loss: 0.7351 - accuracy: 0.7480 - val_loss: 0.7486 - val_accuracy: 0.7225\n",
      "Epoch 14/200\n",
      "186/186 [==============================] - 2s 10ms/step - loss: 0.7337 - accuracy: 0.7423 - val_loss: 0.6978 - val_accuracy: 0.7469\n",
      "Epoch 15/200\n",
      "186/186 [==============================] - 2s 10ms/step - loss: 0.7154 - accuracy: 0.7487 - val_loss: 0.6818 - val_accuracy: 0.7476\n",
      "Epoch 16/200\n",
      "186/186 [==============================] - 2s 10ms/step - loss: 0.6775 - accuracy: 0.7625 - val_loss: 0.6718 - val_accuracy: 0.7689\n",
      "Epoch 17/200\n",
      "186/186 [==============================] - 2s 11ms/step - loss: 0.6938 - accuracy: 0.7615 - val_loss: 0.6664 - val_accuracy: 0.7618\n",
      "Epoch 18/200\n",
      "186/186 [==============================] - 2s 10ms/step - loss: 0.6739 - accuracy: 0.7631 - val_loss: 0.6618 - val_accuracy: 0.7602\n",
      "Epoch 19/200\n",
      "186/186 [==============================] - 2s 10ms/step - loss: 0.6638 - accuracy: 0.7662 - val_loss: 0.6529 - val_accuracy: 0.7791\n",
      "Epoch 20/200\n",
      "186/186 [==============================] - 2s 11ms/step - loss: 0.6447 - accuracy: 0.7749 - val_loss: 0.6395 - val_accuracy: 0.7618\n",
      "Epoch 21/200\n",
      "186/186 [==============================] - 2s 11ms/step - loss: 0.6362 - accuracy: 0.7682 - val_loss: 0.6410 - val_accuracy: 0.7665\n",
      "Epoch 22/200\n",
      "186/186 [==============================] - 2s 10ms/step - loss: 0.6324 - accuracy: 0.7753 - val_loss: 0.6220 - val_accuracy: 0.7657\n",
      "Epoch 23/200\n",
      "186/186 [==============================] - 2s 10ms/step - loss: 0.6346 - accuracy: 0.7685 - val_loss: 0.6519 - val_accuracy: 0.7563\n",
      "Epoch 24/200\n",
      "186/186 [==============================] - 2s 10ms/step - loss: 0.6128 - accuracy: 0.7736 - val_loss: 0.6336 - val_accuracy: 0.7657\n",
      "Epoch 25/200\n",
      "186/186 [==============================] - 2s 10ms/step - loss: 0.6192 - accuracy: 0.7746 - val_loss: 0.6125 - val_accuracy: 0.7744\n",
      "Epoch 26/200\n",
      "186/186 [==============================] - 2s 12ms/step - loss: 0.5968 - accuracy: 0.7813 - val_loss: 0.6105 - val_accuracy: 0.7673\n",
      "Epoch 27/200\n",
      "186/186 [==============================] - 2s 11ms/step - loss: 0.5953 - accuracy: 0.7793 - val_loss: 0.5988 - val_accuracy: 0.7775\n",
      "Epoch 28/200\n",
      "186/186 [==============================] - 2s 12ms/step - loss: 0.5789 - accuracy: 0.7931 - val_loss: 0.6050 - val_accuracy: 0.7783\n",
      "Epoch 29/200\n",
      "186/186 [==============================] - 2s 11ms/step - loss: 0.5725 - accuracy: 0.7871 - val_loss: 0.6031 - val_accuracy: 0.7736\n",
      "Epoch 30/200\n",
      "186/186 [==============================] - 2s 11ms/step - loss: 0.5684 - accuracy: 0.7854 - val_loss: 0.6111 - val_accuracy: 0.7752\n",
      "Epoch 31/200\n",
      "186/186 [==============================] - 2s 11ms/step - loss: 0.5647 - accuracy: 0.7992 - val_loss: 0.5825 - val_accuracy: 0.7791\n",
      "Epoch 32/200\n",
      "186/186 [==============================] - 2s 12ms/step - loss: 0.5546 - accuracy: 0.7921 - val_loss: 0.5922 - val_accuracy: 0.7767\n",
      "Epoch 33/200\n",
      "186/186 [==============================] - 2s 13ms/step - loss: 0.5637 - accuracy: 0.7887 - val_loss: 0.5748 - val_accuracy: 0.7877\n",
      "Epoch 34/200\n",
      "186/186 [==============================] - 2s 12ms/step - loss: 0.5567 - accuracy: 0.8015 - val_loss: 0.5651 - val_accuracy: 0.7893\n",
      "Epoch 35/200\n",
      "186/186 [==============================] - 2s 12ms/step - loss: 0.5417 - accuracy: 0.8029 - val_loss: 0.5852 - val_accuracy: 0.7720\n",
      "Epoch 36/200\n",
      "186/186 [==============================] - 2s 11ms/step - loss: 0.5357 - accuracy: 0.7968 - val_loss: 0.5763 - val_accuracy: 0.7838\n",
      "Epoch 37/200\n",
      "186/186 [==============================] - 2s 12ms/step - loss: 0.5337 - accuracy: 0.8073 - val_loss: 0.5670 - val_accuracy: 0.7838\n",
      "Epoch 38/200\n",
      "186/186 [==============================] - 2s 13ms/step - loss: 0.5376 - accuracy: 0.8012 - val_loss: 0.5586 - val_accuracy: 0.7964\n",
      "Epoch 39/200\n",
      "186/186 [==============================] - 2s 12ms/step - loss: 0.5217 - accuracy: 0.8066 - val_loss: 0.5842 - val_accuracy: 0.7728\n",
      "Epoch 40/200\n",
      "186/186 [==============================] - 2s 12ms/step - loss: 0.5216 - accuracy: 0.7972 - val_loss: 0.5785 - val_accuracy: 0.7830\n",
      "Epoch 41/200\n",
      "186/186 [==============================] - 2s 12ms/step - loss: 0.5263 - accuracy: 0.8036 - val_loss: 0.5556 - val_accuracy: 0.7948\n",
      "Epoch 42/200\n",
      "186/186 [==============================] - 2s 13ms/step - loss: 0.5075 - accuracy: 0.8093 - val_loss: 0.5526 - val_accuracy: 0.7956\n",
      "Epoch 43/200\n",
      "186/186 [==============================] - 2s 12ms/step - loss: 0.5173 - accuracy: 0.8110 - val_loss: 0.5533 - val_accuracy: 0.7869\n",
      "Epoch 44/200\n",
      "186/186 [==============================] - 2s 13ms/step - loss: 0.5062 - accuracy: 0.8130 - val_loss: 0.5342 - val_accuracy: 0.8003\n",
      "Epoch 45/200\n",
      "186/186 [==============================] - 2s 11ms/step - loss: 0.5098 - accuracy: 0.8133 - val_loss: 0.5419 - val_accuracy: 0.7948\n",
      "Epoch 46/200\n",
      "186/186 [==============================] - 2s 13ms/step - loss: 0.4948 - accuracy: 0.8150 - val_loss: 0.5532 - val_accuracy: 0.7932\n",
      "Epoch 47/200\n",
      "186/186 [==============================] - 2s 11ms/step - loss: 0.4949 - accuracy: 0.8123 - val_loss: 0.5397 - val_accuracy: 0.7995\n",
      "Epoch 48/200\n",
      "186/186 [==============================] - 2s 11ms/step - loss: 0.4873 - accuracy: 0.8211 - val_loss: 0.5249 - val_accuracy: 0.8066\n",
      "Epoch 49/200\n",
      "186/186 [==============================] - 2s 12ms/step - loss: 0.4899 - accuracy: 0.8154 - val_loss: 0.5260 - val_accuracy: 0.8113\n",
      "Epoch 50/200\n",
      "186/186 [==============================] - 2s 11ms/step - loss: 0.4863 - accuracy: 0.8214 - val_loss: 0.5335 - val_accuracy: 0.8019\n",
      "Epoch 51/200\n",
      "186/186 [==============================] - 2s 11ms/step - loss: 0.4710 - accuracy: 0.8292 - val_loss: 0.5449 - val_accuracy: 0.7948\n",
      "Epoch 52/200\n",
      "186/186 [==============================] - 2s 11ms/step - loss: 0.4844 - accuracy: 0.8204 - val_loss: 0.5653 - val_accuracy: 0.7948\n",
      "Epoch 53/200\n",
      "186/186 [==============================] - 3s 13ms/step - loss: 0.4747 - accuracy: 0.8228 - val_loss: 0.5255 - val_accuracy: 0.8082\n",
      "Epoch 54/200\n",
      "186/186 [==============================] - 2s 13ms/step - loss: 0.4547 - accuracy: 0.8325 - val_loss: 0.5108 - val_accuracy: 0.8097\n",
      "Epoch 55/200\n",
      "186/186 [==============================] - 3s 14ms/step - loss: 0.4665 - accuracy: 0.8245 - val_loss: 0.5417 - val_accuracy: 0.7956\n",
      "Epoch 56/200\n",
      "186/186 [==============================] - 3s 15ms/step - loss: 0.4586 - accuracy: 0.8299 - val_loss: 0.5300 - val_accuracy: 0.8129\n",
      "Epoch 57/200\n",
      "186/186 [==============================] - 2s 13ms/step - loss: 0.4570 - accuracy: 0.8245 - val_loss: 0.5225 - val_accuracy: 0.8058\n",
      "Epoch 58/200\n",
      "186/186 [==============================] - 3s 14ms/step - loss: 0.4515 - accuracy: 0.8302 - val_loss: 0.5143 - val_accuracy: 0.8066\n",
      "Epoch 59/200\n",
      "186/186 [==============================] - 3s 14ms/step - loss: 0.4454 - accuracy: 0.8356 - val_loss: 0.5187 - val_accuracy: 0.8113\n",
      "Epoch 60/200\n",
      "186/186 [==============================] - 2s 13ms/step - loss: 0.4458 - accuracy: 0.8336 - val_loss: 0.5124 - val_accuracy: 0.8153\n",
      "Epoch 61/200\n",
      "186/186 [==============================] - 2s 13ms/step - loss: 0.4419 - accuracy: 0.8366 - val_loss: 0.5236 - val_accuracy: 0.8035\n",
      "Epoch 62/200\n",
      "186/186 [==============================] - 3s 17ms/step - loss: 0.4393 - accuracy: 0.8369 - val_loss: 0.5098 - val_accuracy: 0.8058\n",
      "Epoch 63/200\n",
      "186/186 [==============================] - 2s 12ms/step - loss: 0.4413 - accuracy: 0.8322 - val_loss: 0.5170 - val_accuracy: 0.8058\n",
      "Epoch 64/200\n",
      "186/186 [==============================] - 2s 12ms/step - loss: 0.4317 - accuracy: 0.8379 - val_loss: 0.5078 - val_accuracy: 0.8160\n",
      "Epoch 65/200\n",
      "186/186 [==============================] - 2s 11ms/step - loss: 0.4234 - accuracy: 0.8379 - val_loss: 0.5264 - val_accuracy: 0.8066\n",
      "Epoch 66/200\n",
      "186/186 [==============================] - 2s 11ms/step - loss: 0.4269 - accuracy: 0.8440 - val_loss: 0.5061 - val_accuracy: 0.8090\n",
      "Epoch 67/200\n",
      "186/186 [==============================] - 2s 11ms/step - loss: 0.4363 - accuracy: 0.8447 - val_loss: 0.5298 - val_accuracy: 0.8105\n",
      "Epoch 68/200\n",
      "186/186 [==============================] - 2s 12ms/step - loss: 0.4300 - accuracy: 0.8383 - val_loss: 0.5195 - val_accuracy: 0.8160\n",
      "Epoch 69/200\n",
      "186/186 [==============================] - 3s 15ms/step - loss: 0.4170 - accuracy: 0.8460 - val_loss: 0.4978 - val_accuracy: 0.8192\n",
      "Epoch 70/200\n",
      "186/186 [==============================] - 2s 13ms/step - loss: 0.4111 - accuracy: 0.8494 - val_loss: 0.5100 - val_accuracy: 0.8027\n",
      "Epoch 71/200\n",
      "186/186 [==============================] - 2s 12ms/step - loss: 0.4164 - accuracy: 0.8460 - val_loss: 0.4953 - val_accuracy: 0.8223\n",
      "Epoch 72/200\n",
      "186/186 [==============================] - 2s 12ms/step - loss: 0.4298 - accuracy: 0.8423 - val_loss: 0.5140 - val_accuracy: 0.8113\n",
      "Epoch 73/200\n",
      "186/186 [==============================] - 2s 13ms/step - loss: 0.4118 - accuracy: 0.8487 - val_loss: 0.4975 - val_accuracy: 0.8184\n",
      "Epoch 74/200\n",
      "186/186 [==============================] - 3s 14ms/step - loss: 0.4124 - accuracy: 0.8507 - val_loss: 0.4949 - val_accuracy: 0.8215\n",
      "Epoch 75/200\n",
      "186/186 [==============================] - 2s 13ms/step - loss: 0.4124 - accuracy: 0.8518 - val_loss: 0.4843 - val_accuracy: 0.8255\n",
      "Epoch 76/200\n",
      "186/186 [==============================] - 2s 12ms/step - loss: 0.4005 - accuracy: 0.8524 - val_loss: 0.4911 - val_accuracy: 0.8239\n",
      "Epoch 77/200\n",
      "186/186 [==============================] - 2s 11ms/step - loss: 0.3924 - accuracy: 0.8504 - val_loss: 0.4905 - val_accuracy: 0.8310\n",
      "Epoch 78/200\n",
      "186/186 [==============================] - 2s 11ms/step - loss: 0.3990 - accuracy: 0.8494 - val_loss: 0.4866 - val_accuracy: 0.8192\n",
      "Epoch 79/200\n",
      "186/186 [==============================] - 2s 11ms/step - loss: 0.3842 - accuracy: 0.8568 - val_loss: 0.5040 - val_accuracy: 0.8090\n",
      "Epoch 80/200\n",
      "186/186 [==============================] - 2s 11ms/step - loss: 0.4030 - accuracy: 0.8514 - val_loss: 0.4779 - val_accuracy: 0.8310\n",
      "Epoch 81/200\n",
      "186/186 [==============================] - 2s 12ms/step - loss: 0.3861 - accuracy: 0.8578 - val_loss: 0.4779 - val_accuracy: 0.8215\n",
      "Epoch 82/200\n",
      "186/186 [==============================] - 2s 13ms/step - loss: 0.3870 - accuracy: 0.8592 - val_loss: 0.4815 - val_accuracy: 0.8255\n",
      "Epoch 83/200\n",
      "186/186 [==============================] - 2s 13ms/step - loss: 0.3851 - accuracy: 0.8602 - val_loss: 0.4737 - val_accuracy: 0.8365\n",
      "Epoch 84/200\n",
      "186/186 [==============================] - 2s 12ms/step - loss: 0.3788 - accuracy: 0.8666 - val_loss: 0.4745 - val_accuracy: 0.8341\n",
      "Epoch 85/200\n",
      "186/186 [==============================] - 2s 11ms/step - loss: 0.3788 - accuracy: 0.8659 - val_loss: 0.4797 - val_accuracy: 0.8231\n",
      "Epoch 86/200\n",
      "186/186 [==============================] - 2s 11ms/step - loss: 0.3704 - accuracy: 0.8652 - val_loss: 0.4746 - val_accuracy: 0.8341\n",
      "Epoch 87/200\n",
      "186/186 [==============================] - 2s 11ms/step - loss: 0.3595 - accuracy: 0.8723 - val_loss: 0.4730 - val_accuracy: 0.8263\n",
      "Epoch 88/200\n",
      "186/186 [==============================] - 2s 12ms/step - loss: 0.3715 - accuracy: 0.8662 - val_loss: 0.4673 - val_accuracy: 0.8325\n",
      "Epoch 89/200\n",
      "186/186 [==============================] - 3s 15ms/step - loss: 0.3547 - accuracy: 0.8676 - val_loss: 0.4775 - val_accuracy: 0.8318\n",
      "Epoch 90/200\n",
      "186/186 [==============================] - 3s 16ms/step - loss: 0.3541 - accuracy: 0.8713 - val_loss: 0.4815 - val_accuracy: 0.8349\n",
      "Epoch 91/200\n",
      "186/186 [==============================] - 3s 14ms/step - loss: 0.3610 - accuracy: 0.8703 - val_loss: 0.4813 - val_accuracy: 0.8263\n",
      "Epoch 92/200\n",
      "186/186 [==============================] - 2s 13ms/step - loss: 0.3623 - accuracy: 0.8673 - val_loss: 0.4685 - val_accuracy: 0.8333\n",
      "Epoch 93/200\n",
      "186/186 [==============================] - 2s 13ms/step - loss: 0.3436 - accuracy: 0.8784 - val_loss: 0.4572 - val_accuracy: 0.8412\n",
      "Epoch 94/200\n",
      "186/186 [==============================] - 2s 13ms/step - loss: 0.3489 - accuracy: 0.8737 - val_loss: 0.4738 - val_accuracy: 0.8294\n",
      "Epoch 95/200\n",
      "186/186 [==============================] - 2s 13ms/step - loss: 0.3481 - accuracy: 0.8760 - val_loss: 0.4994 - val_accuracy: 0.8318\n",
      "Epoch 96/200\n",
      "186/186 [==============================] - 3s 14ms/step - loss: 0.3469 - accuracy: 0.8790 - val_loss: 0.4819 - val_accuracy: 0.8255\n",
      "Epoch 97/200\n",
      "186/186 [==============================] - 2s 13ms/step - loss: 0.3402 - accuracy: 0.8817 - val_loss: 0.4701 - val_accuracy: 0.8278\n",
      "Epoch 98/200\n",
      "186/186 [==============================] - 3s 14ms/step - loss: 0.3384 - accuracy: 0.8770 - val_loss: 0.4757 - val_accuracy: 0.8381\n",
      "Epoch 99/200\n",
      "186/186 [==============================] - 3s 14ms/step - loss: 0.3487 - accuracy: 0.8703 - val_loss: 0.4721 - val_accuracy: 0.8255\n",
      "Epoch 100/200\n",
      "186/186 [==============================] - 3s 14ms/step - loss: 0.3363 - accuracy: 0.8787 - val_loss: 0.4747 - val_accuracy: 0.8231\n",
      "Epoch 101/200\n",
      "186/186 [==============================] - 3s 14ms/step - loss: 0.3335 - accuracy: 0.8787 - val_loss: 0.4546 - val_accuracy: 0.8396\n",
      "Epoch 102/200\n",
      "186/186 [==============================] - 3s 15ms/step - loss: 0.3380 - accuracy: 0.8787 - val_loss: 0.4649 - val_accuracy: 0.8325\n",
      "Epoch 103/200\n",
      "186/186 [==============================] - 3s 15ms/step - loss: 0.3242 - accuracy: 0.8814 - val_loss: 0.4615 - val_accuracy: 0.8349\n",
      "Epoch 104/200\n",
      "186/186 [==============================] - 3s 14ms/step - loss: 0.3296 - accuracy: 0.8831 - val_loss: 0.4621 - val_accuracy: 0.8357\n",
      "Epoch 105/200\n",
      "186/186 [==============================] - 3s 14ms/step - loss: 0.3240 - accuracy: 0.8807 - val_loss: 0.4531 - val_accuracy: 0.8325\n",
      "Epoch 106/200\n",
      "186/186 [==============================] - 2s 13ms/step - loss: 0.3248 - accuracy: 0.8817 - val_loss: 0.4595 - val_accuracy: 0.8270\n",
      "Epoch 107/200\n",
      "186/186 [==============================] - 2s 13ms/step - loss: 0.3185 - accuracy: 0.8851 - val_loss: 0.4479 - val_accuracy: 0.8381\n",
      "Epoch 108/200\n",
      "186/186 [==============================] - 2s 13ms/step - loss: 0.3178 - accuracy: 0.8918 - val_loss: 0.4578 - val_accuracy: 0.8286\n",
      "Epoch 109/200\n",
      "186/186 [==============================] - 2s 13ms/step - loss: 0.3153 - accuracy: 0.8892 - val_loss: 0.4568 - val_accuracy: 0.8255\n",
      "Epoch 110/200\n",
      "186/186 [==============================] - 2s 13ms/step - loss: 0.3263 - accuracy: 0.8827 - val_loss: 0.5528 - val_accuracy: 0.8176\n",
      "Epoch 111/200\n",
      "186/186 [==============================] - 3s 16ms/step - loss: 0.3099 - accuracy: 0.8885 - val_loss: 0.4585 - val_accuracy: 0.8365\n",
      "Epoch 112/200\n",
      "186/186 [==============================] - 3s 17ms/step - loss: 0.2995 - accuracy: 0.8888 - val_loss: 0.4519 - val_accuracy: 0.8349\n",
      "Epoch 113/200\n"
     ]
    },
    {
     "name": "stdout",
     "output_type": "stream",
     "text": [
      "186/186 [==============================] - 2s 12ms/step - loss: 0.2945 - accuracy: 0.8912 - val_loss: 0.4580 - val_accuracy: 0.8357\n",
      "Epoch 114/200\n",
      "186/186 [==============================] - 2s 12ms/step - loss: 0.3006 - accuracy: 0.8922 - val_loss: 0.4487 - val_accuracy: 0.8349\n",
      "Epoch 115/200\n",
      "186/186 [==============================] - 2s 13ms/step - loss: 0.3044 - accuracy: 0.8929 - val_loss: 0.4594 - val_accuracy: 0.8373\n",
      "Epoch 116/200\n",
      "186/186 [==============================] - 2s 12ms/step - loss: 0.2964 - accuracy: 0.8972 - val_loss: 0.4504 - val_accuracy: 0.8333\n",
      "Epoch 117/200\n",
      "186/186 [==============================] - 2s 13ms/step - loss: 0.2874 - accuracy: 0.8925 - val_loss: 0.4632 - val_accuracy: 0.8412\n",
      "Epoch 118/200\n",
      "186/186 [==============================] - 3s 14ms/step - loss: 0.2987 - accuracy: 0.8905 - val_loss: 0.4768 - val_accuracy: 0.8302\n",
      "Epoch 119/200\n",
      "186/186 [==============================] - 3s 15ms/step - loss: 0.2850 - accuracy: 0.8966 - val_loss: 0.4645 - val_accuracy: 0.8381\n",
      "Epoch 120/200\n",
      "186/186 [==============================] - 3s 13ms/step - loss: 0.2947 - accuracy: 0.8939 - val_loss: 0.4519 - val_accuracy: 0.8381\n",
      "Epoch 121/200\n",
      "186/186 [==============================] - 3s 15ms/step - loss: 0.2900 - accuracy: 0.8922 - val_loss: 0.4597 - val_accuracy: 0.8381\n",
      "Epoch 122/200\n",
      "186/186 [==============================] - 3s 15ms/step - loss: 0.2867 - accuracy: 0.9003 - val_loss: 0.4517 - val_accuracy: 0.8349\n",
      "Epoch 123/200\n",
      "186/186 [==============================] - 2s 13ms/step - loss: 0.2757 - accuracy: 0.9036 - val_loss: 0.4685 - val_accuracy: 0.8349\n",
      "Epoch 124/200\n",
      "186/186 [==============================] - 2s 13ms/step - loss: 0.2773 - accuracy: 0.9006 - val_loss: 0.4543 - val_accuracy: 0.8255\n",
      "Epoch 125/200\n",
      "186/186 [==============================] - 3s 14ms/step - loss: 0.2778 - accuracy: 0.9033 - val_loss: 0.4468 - val_accuracy: 0.8396\n",
      "Epoch 126/200\n",
      "186/186 [==============================] - 3s 14ms/step - loss: 0.2771 - accuracy: 0.9033 - val_loss: 0.4565 - val_accuracy: 0.8396\n",
      "Epoch 127/200\n",
      "186/186 [==============================] - 3s 15ms/step - loss: 0.2750 - accuracy: 0.9057 - val_loss: 0.4482 - val_accuracy: 0.8365\n",
      "Epoch 128/200\n",
      "186/186 [==============================] - 3s 15ms/step - loss: 0.2730 - accuracy: 0.9026 - val_loss: 0.4595 - val_accuracy: 0.8381\n",
      "Epoch 129/200\n",
      "186/186 [==============================] - 3s 15ms/step - loss: 0.2737 - accuracy: 0.9036 - val_loss: 0.4612 - val_accuracy: 0.8420\n",
      "Epoch 130/200\n",
      "186/186 [==============================] - 3s 15ms/step - loss: 0.2597 - accuracy: 0.9104 - val_loss: 0.4502 - val_accuracy: 0.8357\n",
      "Epoch 131/200\n",
      "186/186 [==============================] - 3s 14ms/step - loss: 0.2663 - accuracy: 0.9026 - val_loss: 0.4499 - val_accuracy: 0.8443\n",
      "Epoch 132/200\n",
      "186/186 [==============================] - 2s 13ms/step - loss: 0.2556 - accuracy: 0.9084 - val_loss: 0.4481 - val_accuracy: 0.8310\n",
      "Epoch 133/200\n",
      "186/186 [==============================] - 2s 13ms/step - loss: 0.2699 - accuracy: 0.9084 - val_loss: 0.4853 - val_accuracy: 0.8325\n",
      "Epoch 134/200\n",
      "186/186 [==============================] - 3s 14ms/step - loss: 0.2629 - accuracy: 0.9117 - val_loss: 0.4535 - val_accuracy: 0.8396\n",
      "Epoch 135/200\n",
      "186/186 [==============================] - 2s 12ms/step - loss: 0.2565 - accuracy: 0.9077 - val_loss: 0.4479 - val_accuracy: 0.8467\n",
      "Epoch 136/200\n",
      "186/186 [==============================] - 2s 12ms/step - loss: 0.2710 - accuracy: 0.9057 - val_loss: 0.4416 - val_accuracy: 0.8420\n",
      "Epoch 137/200\n",
      "186/186 [==============================] - 3s 14ms/step - loss: 0.2474 - accuracy: 0.9114 - val_loss: 0.4376 - val_accuracy: 0.8451\n",
      "Epoch 138/200\n",
      "186/186 [==============================] - 2s 13ms/step - loss: 0.2460 - accuracy: 0.9144 - val_loss: 0.4593 - val_accuracy: 0.8459\n",
      "Epoch 139/200\n",
      "186/186 [==============================] - 2s 12ms/step - loss: 0.2415 - accuracy: 0.9181 - val_loss: 0.4688 - val_accuracy: 0.8325\n",
      "Epoch 140/200\n",
      "186/186 [==============================] - 3s 16ms/step - loss: 0.2420 - accuracy: 0.9171 - val_loss: 0.4610 - val_accuracy: 0.8349\n",
      "Epoch 141/200\n",
      "186/186 [==============================] - 3s 15ms/step - loss: 0.2447 - accuracy: 0.9171 - val_loss: 0.4441 - val_accuracy: 0.8404\n",
      "Epoch 142/200\n",
      "186/186 [==============================] - 3s 14ms/step - loss: 0.2433 - accuracy: 0.9154 - val_loss: 0.4832 - val_accuracy: 0.8381\n",
      "Epoch 143/200\n",
      "186/186 [==============================] - 3s 14ms/step - loss: 0.2378 - accuracy: 0.9171 - val_loss: 0.4716 - val_accuracy: 0.8349\n",
      "Epoch 144/200\n",
      "186/186 [==============================] - 3s 15ms/step - loss: 0.2361 - accuracy: 0.9232 - val_loss: 0.4589 - val_accuracy: 0.8325\n",
      "Epoch 145/200\n",
      "186/186 [==============================] - 3s 14ms/step - loss: 0.2513 - accuracy: 0.9151 - val_loss: 0.4645 - val_accuracy: 0.8428\n",
      "Epoch 146/200\n",
      "186/186 [==============================] - 3s 16ms/step - loss: 0.2346 - accuracy: 0.9164 - val_loss: 0.4527 - val_accuracy: 0.8451\n",
      "Epoch 147/200\n",
      "186/186 [==============================] - 3s 15ms/step - loss: 0.2207 - accuracy: 0.9279 - val_loss: 0.4653 - val_accuracy: 0.8349\n",
      "Epoch 148/200\n",
      "186/186 [==============================] - 3s 14ms/step - loss: 0.2375 - accuracy: 0.9168 - val_loss: 0.4579 - val_accuracy: 0.8436\n",
      "Epoch 149/200\n",
      "186/186 [==============================] - 2s 13ms/step - loss: 0.2338 - accuracy: 0.9178 - val_loss: 0.4569 - val_accuracy: 0.8451\n",
      "Epoch 150/200\n",
      "186/186 [==============================] - 3s 13ms/step - loss: 0.2404 - accuracy: 0.9148 - val_loss: 0.4433 - val_accuracy: 0.8467\n",
      "Epoch 151/200\n",
      "186/186 [==============================] - 3s 14ms/step - loss: 0.2279 - accuracy: 0.9235 - val_loss: 0.4501 - val_accuracy: 0.8475\n",
      "Epoch 152/200\n",
      "186/186 [==============================] - 2s 13ms/step - loss: 0.2206 - accuracy: 0.9222 - val_loss: 0.4531 - val_accuracy: 0.8443\n",
      "Epoch 153/200\n",
      "186/186 [==============================] - 2s 13ms/step - loss: 0.2188 - accuracy: 0.9242 - val_loss: 0.4499 - val_accuracy: 0.8396\n",
      "Epoch 154/200\n",
      "186/186 [==============================] - 2s 13ms/step - loss: 0.2187 - accuracy: 0.9269 - val_loss: 0.4469 - val_accuracy: 0.8459\n",
      "Epoch 155/200\n",
      "186/186 [==============================] - 3s 14ms/step - loss: 0.2147 - accuracy: 0.9292 - val_loss: 0.4589 - val_accuracy: 0.8451\n",
      "Epoch 156/200\n",
      "186/186 [==============================] - 3s 15ms/step - loss: 0.2168 - accuracy: 0.9276 - val_loss: 0.4529 - val_accuracy: 0.8451\n",
      "Epoch 157/200\n",
      "186/186 [==============================] - 3s 15ms/step - loss: 0.2231 - accuracy: 0.9235 - val_loss: 0.4657 - val_accuracy: 0.8498\n",
      "Epoch 158/200\n",
      "186/186 [==============================] - 2s 13ms/step - loss: 0.2146 - accuracy: 0.9282 - val_loss: 0.4613 - val_accuracy: 0.8459\n",
      "Epoch 159/200\n",
      "186/186 [==============================] - 2s 12ms/step - loss: 0.2073 - accuracy: 0.9289 - val_loss: 0.4618 - val_accuracy: 0.8365\n",
      "Epoch 160/200\n",
      "186/186 [==============================] - 2s 13ms/step - loss: 0.2091 - accuracy: 0.9296 - val_loss: 0.4463 - val_accuracy: 0.8475\n",
      "Epoch 161/200\n",
      "186/186 [==============================] - 2s 12ms/step - loss: 0.2138 - accuracy: 0.9292 - val_loss: 0.4512 - val_accuracy: 0.8443\n",
      "Epoch 162/200\n",
      "186/186 [==============================] - 3s 15ms/step - loss: 0.2052 - accuracy: 0.9279 - val_loss: 0.4427 - val_accuracy: 0.8530\n",
      "Epoch 163/200\n",
      "186/186 [==============================] - 3s 15ms/step - loss: 0.2033 - accuracy: 0.9326 - val_loss: 0.4773 - val_accuracy: 0.8506\n",
      "Epoch 164/200\n",
      "186/186 [==============================] - 3s 16ms/step - loss: 0.2098 - accuracy: 0.9309 - val_loss: 0.4523 - val_accuracy: 0.8443\n",
      "Epoch 165/200\n",
      "186/186 [==============================] - 3s 14ms/step - loss: 0.2000 - accuracy: 0.9313 - val_loss: 0.4415 - val_accuracy: 0.8491\n",
      "Epoch 166/200\n",
      "186/186 [==============================] - 2s 12ms/step - loss: 0.1993 - accuracy: 0.9340 - val_loss: 0.4570 - val_accuracy: 0.8420\n",
      "Epoch 167/200\n",
      "186/186 [==============================] - 2s 13ms/step - loss: 0.2096 - accuracy: 0.9296 - val_loss: 0.4428 - val_accuracy: 0.8506\n",
      "Epoch 168/200\n",
      "186/186 [==============================] - 3s 13ms/step - loss: 0.1988 - accuracy: 0.9296 - val_loss: 0.4413 - val_accuracy: 0.8530\n",
      "Epoch 169/200\n",
      "186/186 [==============================] - 2s 12ms/step - loss: 0.1941 - accuracy: 0.9340 - val_loss: 0.4488 - val_accuracy: 0.8506\n",
      "Epoch 170/200\n",
      "186/186 [==============================] - 2s 13ms/step - loss: 0.1909 - accuracy: 0.9336 - val_loss: 0.4345 - val_accuracy: 0.8498\n",
      "Epoch 171/200\n",
      "186/186 [==============================] - 3s 14ms/step - loss: 0.1928 - accuracy: 0.9333 - val_loss: 0.4288 - val_accuracy: 0.8467\n",
      "Epoch 172/200\n",
      "186/186 [==============================] - 3s 14ms/step - loss: 0.1927 - accuracy: 0.9360 - val_loss: 0.4445 - val_accuracy: 0.8428\n",
      "Epoch 173/200\n",
      "186/186 [==============================] - 2s 13ms/step - loss: 0.2305 - accuracy: 0.9316 - val_loss: 0.4452 - val_accuracy: 0.8451\n",
      "Epoch 174/200\n",
      "186/186 [==============================] - 3s 14ms/step - loss: 0.1908 - accuracy: 0.9333 - val_loss: 0.4208 - val_accuracy: 0.8546\n",
      "Epoch 175/200\n",
      "186/186 [==============================] - 3s 14ms/step - loss: 0.1902 - accuracy: 0.9370 - val_loss: 0.4311 - val_accuracy: 0.8498\n",
      "Epoch 176/200\n",
      "186/186 [==============================] - 3s 14ms/step - loss: 0.1897 - accuracy: 0.9340 - val_loss: 0.4458 - val_accuracy: 0.8428\n",
      "Epoch 177/200\n",
      "186/186 [==============================] - 3s 18ms/step - loss: 0.1868 - accuracy: 0.9330 - val_loss: 0.4492 - val_accuracy: 0.8451\n",
      "Epoch 178/200\n",
      "186/186 [==============================] - 3s 15ms/step - loss: 0.1797 - accuracy: 0.9417 - val_loss: 0.4334 - val_accuracy: 0.8459\n",
      "Epoch 179/200\n",
      "186/186 [==============================] - 3s 14ms/step - loss: 0.1792 - accuracy: 0.9417 - val_loss: 0.4564 - val_accuracy: 0.8365\n",
      "Epoch 180/200\n",
      "186/186 [==============================] - 2s 13ms/step - loss: 0.1706 - accuracy: 0.9454 - val_loss: 0.4399 - val_accuracy: 0.8467\n",
      "Epoch 181/200\n",
      "186/186 [==============================] - 2s 13ms/step - loss: 0.1711 - accuracy: 0.9464 - val_loss: 0.4490 - val_accuracy: 0.8428\n",
      "Epoch 182/200\n",
      "186/186 [==============================] - 3s 14ms/step - loss: 0.1665 - accuracy: 0.9454 - val_loss: 0.4452 - val_accuracy: 0.8420\n",
      "Epoch 183/200\n",
      "186/186 [==============================] - 3s 14ms/step - loss: 0.1728 - accuracy: 0.9431 - val_loss: 0.4355 - val_accuracy: 0.8436\n",
      "Epoch 184/200\n",
      "186/186 [==============================] - 2s 13ms/step - loss: 0.1728 - accuracy: 0.9407 - val_loss: 0.4410 - val_accuracy: 0.8459\n",
      "Epoch 185/200\n",
      "186/186 [==============================] - 2s 12ms/step - loss: 0.1666 - accuracy: 0.9451 - val_loss: 0.4560 - val_accuracy: 0.8475\n",
      "Epoch 186/200\n",
      "186/186 [==============================] - 2s 13ms/step - loss: 0.1735 - accuracy: 0.9387 - val_loss: 0.4472 - val_accuracy: 0.8420\n",
      "Epoch 187/200\n",
      "186/186 [==============================] - 3s 14ms/step - loss: 0.1705 - accuracy: 0.9471 - val_loss: 0.4426 - val_accuracy: 0.8491\n",
      "Epoch 188/200\n",
      "186/186 [==============================] - 2s 13ms/step - loss: 0.1723 - accuracy: 0.9441 - val_loss: 0.4333 - val_accuracy: 0.8491\n",
      "Epoch 189/200\n",
      "186/186 [==============================] - 2s 13ms/step - loss: 0.1689 - accuracy: 0.9437 - val_loss: 0.4502 - val_accuracy: 0.8428\n",
      "Epoch 190/200\n",
      "186/186 [==============================] - 2s 12ms/step - loss: 0.1641 - accuracy: 0.9444 - val_loss: 0.4410 - val_accuracy: 0.8498\n",
      "Epoch 191/200\n",
      "186/186 [==============================] - 2s 12ms/step - loss: 0.1620 - accuracy: 0.9461 - val_loss: 0.4560 - val_accuracy: 0.8467\n",
      "Epoch 192/200\n",
      "186/186 [==============================] - 2s 11ms/step - loss: 0.1629 - accuracy: 0.9447 - val_loss: 0.4389 - val_accuracy: 0.8498\n",
      "Epoch 193/200\n",
      "186/186 [==============================] - 2s 12ms/step - loss: 0.1650 - accuracy: 0.9424 - val_loss: 0.4497 - val_accuracy: 0.8436\n",
      "Epoch 194/200\n",
      "186/186 [==============================] - 3s 14ms/step - loss: 0.1544 - accuracy: 0.9495 - val_loss: 0.4663 - val_accuracy: 0.8491\n",
      "Epoch 195/200\n",
      "186/186 [==============================] - 3s 15ms/step - loss: 0.1540 - accuracy: 0.9515 - val_loss: 0.4638 - val_accuracy: 0.8475\n",
      "Epoch 196/200\n",
      "186/186 [==============================] - 3s 15ms/step - loss: 0.1635 - accuracy: 0.9485 - val_loss: 0.4778 - val_accuracy: 0.8420\n",
      "Epoch 197/200\n",
      "186/186 [==============================] - 2s 13ms/step - loss: 0.1533 - accuracy: 0.9481 - val_loss: 0.5084 - val_accuracy: 0.8412\n",
      "Epoch 198/200\n",
      "186/186 [==============================] - 2s 13ms/step - loss: 0.1596 - accuracy: 0.9464 - val_loss: 0.4648 - val_accuracy: 0.8459\n",
      "Epoch 199/200\n",
      "186/186 [==============================] - 2s 13ms/step - loss: 0.1487 - accuracy: 0.9505 - val_loss: 0.4541 - val_accuracy: 0.8553\n",
      "Epoch 200/200\n",
      "186/186 [==============================] - 3s 13ms/step - loss: 0.1535 - accuracy: 0.9468 - val_loss: 0.4555 - val_accuracy: 0.8522\n"
     ]
    }
   ],
   "source": [
    "model.compile(loss='sparse_categorical_crossentropy',\n",
    "              optimizer=opt,\n",
    "              metrics=['accuracy'])\n",
    "cnnhistory=model.fit(x_traincnn, ytrain, batch_size=16, epochs=200 ,validation_data=(x_testcnn, ytest))"
   ]
  },
  {
   "cell_type": "markdown",
   "metadata": {},
   "source": [
    "## EVALUATING MODEL"
   ]
  },
  {
   "cell_type": "code",
   "execution_count": 66,
   "metadata": {},
   "outputs": [],
   "source": [
    "predictions = model.predict_classes(x_testcnn)"
   ]
  },
  {
   "cell_type": "code",
   "execution_count": 67,
   "metadata": {},
   "outputs": [],
   "source": [
    "new_Ytest = ytest.astype(int)"
   ]
  },
  {
   "cell_type": "markdown",
   "metadata": {},
   "source": [
    "### CLASSIFICATION REPORT AND CONFUSION MATRIX"
   ]
  },
  {
   "cell_type": "code",
   "execution_count": 68,
   "metadata": {},
   "outputs": [
    {
     "name": "stdout",
     "output_type": "stream",
     "text": [
      "              precision    recall  f1-score   support\n",
      "\n",
      "           0       0.87      0.90      0.88       174\n",
      "           1       0.61      0.85      0.71        53\n",
      "           2       0.91      0.84      0.87       196\n",
      "           3       0.88      0.88      0.88       187\n",
      "           4       0.79      0.85      0.82       170\n",
      "           5       0.95      0.82      0.88       142\n",
      "           6       0.84      0.81      0.82       179\n",
      "           7       0.86      0.87      0.87       171\n",
      "\n",
      "    accuracy                           0.85      1272\n",
      "   macro avg       0.84      0.85      0.84      1272\n",
      "weighted avg       0.86      0.85      0.85      1272\n",
      "\n"
     ]
    }
   ],
   "source": [
    "from sklearn.metrics import classification_report\n",
    "report = classification_report(new_Ytest, predictions)\n",
    "print(report)"
   ]
  },
  {
   "cell_type": "code",
   "execution_count": 75,
   "metadata": {},
   "outputs": [
    {
     "name": "stdout",
     "output_type": "stream",
     "text": [
      "[[156   0   6   2   8   0   0   2]\n",
      " [  0  45   0   2   0   1   5   0]\n",
      " [  6   4 164   2   6   0   6   8]\n",
      " [  3   1   3 164  10   0   4   2]\n",
      " [  8   2   2   5 145   0   3   5]\n",
      " [  0  11   0   4   3 116   7   1]\n",
      " [  3  10   4   5   3   3 145   6]\n",
      " [  4   1   2   2   8   2   3 149]]\n"
     ]
    },
    {
     "data": {
      "image/png": "[encoded data removed]",
      "text/plain": [
       "<Figure size 432x288 with 2 Axes>"
      ]
     },
     "metadata": {
      "needs_background": "light"
     },
     "output_type": "display_data"
    }
   ],
   "source": [
    "from sklearn.metrics import confusion_matrix\n",
    "cm = confusion_matrix(new_Ytest, predictions)\n",
    "df_cm = pd.DataFrame(cm)\n",
    "sn.heatmap(df_cm, annot=True, fmt='')\n",
    "#print (matrix)"
   ]
  },
  {
   "cell_type": "markdown",
   "metadata": {},
   "source": [
    "## Plotting graphs of model loss and model accuarcy"
   ]
  },
  {
   "cell_type": "code",
   "execution_count": 87,
   "metadata": {},
   "outputs": [
    {
     "data": {
      "image/png": "[encoded data removed]",
      "text/plain": [
       "<Figure size 432x288 with 1 Axes>"
      ]
     },
     "metadata": {
      "needs_background": "light"
     },
     "output_type": "display_data"
    }
   ],
   "source": [
    "plt.plot(cnnhistory.history['loss'])\n",
    "plt.plot(cnnhistory.history['val_loss'])\n",
    "plt.title('model loss')\n",
    "plt.ylabel('loss')\n",
    "plt.xlabel('epoch')\n",
    "plt.legend(['train', 'test'], loc='upper left')\n",
    "plt.show()"
   ]
  },
  {
   "cell_type": "code",
   "execution_count": 88,
   "metadata": {},
   "outputs": [
    {
     "data": {
      "image/png": "[encoded data removed]",
      "text/plain": [
       "<Figure size 432x288 with 1 Axes>"
      ]
     },
     "metadata": {
      "needs_background": "light"
     },
     "output_type": "display_data"
    }
   ],
   "source": [
    "plt.plot(cnnhistory.history['accuracy'])\n",
    "plt.plot(cnnhistory.history['val_accuracy'])\n",
    "plt.title('model accuracy')\n",
    "plt.ylabel('accuracy')\n",
    "plt.xlabel('epoch')\n",
    "plt.legend(['train', 'test'], loc='upper left')\n",
    "plt.show()"
   ]
  },
  {
   "cell_type": "markdown",
   "metadata": {},
   "source": [
    "### Testing with random test data --input shape must be modified"
   ]
  },
  {
   "cell_type": "code",
   "execution_count": 53,
   "metadata": {},
   "outputs": [
    {
     "data": {
      "text/plain": [
       "(180, 1)"
      ]
     },
     "execution_count": 53,
     "metadata": {},
     "output_type": "execute_result"
    }
   ],
   "source": [
    "x_testcnn[101] #mistake because it expects a 2d\n",
    "x_testcnn[101].shape"
   ]
  },
  {
   "cell_type": "code",
   "execution_count": 51,
   "metadata": {},
   "outputs": [
    {
     "name": "stdout",
     "output_type": "stream",
     "text": [
      "(1, 180, 1)\n"
     ]
    }
   ],
   "source": [
    "#EXPAND DIMENSIONS TO SEND AS INPUT ONE WAY\n",
    "#xt=xtest.iloc[7,:]\n",
    "#x1 = np.expand_dims(xt.to_frame().transpose(), axis=2)\n",
    "#print(x1.shape)"
   ]
  },
  {
   "cell_type": "code",
   "execution_count": 55,
   "metadata": {},
   "outputs": [
    {
     "data": {
      "text/plain": [
       "(1, 180, 1)"
      ]
     },
     "execution_count": 55,
     "metadata": {},
     "output_type": "execute_result"
    }
   ],
   "source": [
    "#ANOTHER WAY\n",
    "\n",
    "x1 = np.expand_dims(x_testcnn[101], axis=0)\n",
    "x1.shape"
   ]
  },
  {
   "cell_type": "code",
   "execution_count": 56,
   "metadata": {},
   "outputs": [
    {
     "name": "stdout",
     "output_type": "stream",
     "text": [
      "[2]\n"
     ]
    }
   ],
   "source": [
    "predictions = model.predict_classes(x1)\n",
    "print(predictions)"
   ]
  },
  {
   "cell_type": "code",
   "execution_count": 58,
   "metadata": {},
   "outputs": [
    {
     "data": {
      "text/plain": [
       "array([2])"
      ]
     },
     "execution_count": 58,
     "metadata": {},
     "output_type": "execute_result"
    }
   ],
   "source": [
    "ytest[101]"
   ]
  },
  {
   "cell_type": "markdown",
   "metadata": {},
   "source": [
    "## SAVING THE MODEL"
   ]
  },
  {
   "cell_type": "code",
   "execution_count": 90,
   "metadata": {},
   "outputs": [
    {
     "name": "stdout",
     "output_type": "stream",
     "text": [
      "MODEL SAVED\n"
     ]
    }
   ],
   "source": [
    "model.save('testing2_model.h5')\n",
    "print(\"MODEL SAVED\")"
   ]
  },
  {
   "cell_type": "code",
   "execution_count": 98,
   "metadata": {},
   "outputs": [
    {
     "name": "stdout",
     "output_type": "stream",
     "text": [
      "Model: \"sequential_3\"\n",
      "_________________________________________________________________\n",
      "Layer (type)                 Output Shape              Param #   \n",
      "=================================================================\n",
      "conv1d_9 (Conv1D)            (None, 180, 64)           384       \n",
      "_________________________________________________________________\n",
      "activation_12 (Activation)   (None, 180, 64)           0         \n",
      "_________________________________________________________________\n",
      "dropout_9 (Dropout)          (None, 180, 64)           0         \n",
      "_________________________________________________________________\n",
      "max_pooling1d_6 (MaxPooling1 (None, 45, 64)            0         \n",
      "_________________________________________________________________\n",
      "conv1d_10 (Conv1D)           (None, 45, 128)           41088     \n",
      "_________________________________________________________________\n",
      "activation_13 (Activation)   (None, 45, 128)           0         \n",
      "_________________________________________________________________\n",
      "dropout_10 (Dropout)         (None, 45, 128)           0         \n",
      "_________________________________________________________________\n",
      "max_pooling1d_7 (MaxPooling1 (None, 11, 128)           0         \n",
      "_________________________________________________________________\n",
      "conv1d_11 (Conv1D)           (None, 11, 256)           164096    \n",
      "_________________________________________________________________\n",
      "activation_14 (Activation)   (None, 11, 256)           0         \n",
      "_________________________________________________________________\n",
      "dropout_11 (Dropout)         (None, 11, 256)           0         \n",
      "_________________________________________________________________\n",
      "flatten_3 (Flatten)          (None, 2816)              0         \n",
      "_________________________________________________________________\n",
      "dense_3 (Dense)              (None, 8)                 22536     \n",
      "_________________________________________________________________\n",
      "activation_15 (Activation)   (None, 8)                 0         \n",
      "=================================================================\n",
      "Total params: 228,104\n",
      "Trainable params: 228,104\n",
      "Non-trainable params: 0\n",
      "_________________________________________________________________\n"
     ]
    }
   ],
   "source": [
    "new_model=keras.models.load_model('testing2_model.h5')\n",
    "new_model.summary()"
   ]
  },
  {
   "cell_type": "code",
   "execution_count": 102,
   "metadata": {},
   "outputs": [
    {
     "name": "stdout",
     "output_type": "stream",
     "text": [
      "40/40 [==============================] - 0s 4ms/step - loss: 0.4555 - accuracy: 0.1415\n",
      "Restored model, accuracy: 14.150942862033844%\n"
     ]
    }
   ],
   "source": [
    "loss, acc = new_model.evaluate(x_testcnn, ytest)\n",
    "print(\"Restored model, accuracy: {}%\".format(100*acc))"
   ]
  },
  {
   "cell_type": "code",
   "execution_count": null,
   "metadata": {},
   "outputs": [],
   "source": []
  },
  {
   "cell_type": "code",
   "execution_count": null,
   "metadata": {},
   "outputs": [],
   "source": []
  },
  {
   "cell_type": "code",
   "execution_count": null,
   "metadata": {},
   "outputs": [],
   "source": []
  },
  {
   "cell_type": "code",
   "execution_count": null,
   "metadata": {},
   "outputs": [],
   "source": []
  },
  {
   "cell_type": "code",
   "execution_count": null,
   "metadata": {},
   "outputs": [],
   "source": []
  },
  {
   "cell_type": "code",
   "execution_count": null,
   "metadata": {},
   "outputs": [],
   "source": []
  },
  {
   "cell_type": "code",
   "execution_count": null,
   "metadata": {},
   "outputs": [],
   "source": []
  },
  {
   "cell_type": "code",
   "execution_count": null,
   "metadata": {},
   "outputs": [],
   "source": []
  },
  {
   "cell_type": "code",
   "execution_count": null,
   "metadata": {},
   "outputs": [],
   "source": []
  },
  {
   "cell_type": "code",
   "execution_count": null,
   "metadata": {},
   "outputs": [],
   "source": []
  },
  {
   "cell_type": "code",
   "execution_count": null,
   "metadata": {},
   "outputs": [],
   "source": []
  },
  {
   "cell_type": "code",
   "execution_count": null,
   "metadata": {},
   "outputs": [],
   "source": []
  },
  {
   "cell_type": "code",
   "execution_count": null,
   "metadata": {},
   "outputs": [],
   "source": []
  }
 ],
 "metadata": {
  "kernelspec": {
   "display_name": "Python 3",
   "language": "python",
   "name": "python3"
  },
  "language_info": {
   "codemirror_mode": {
    "name": "ipython",
    "version": 3
   },
   "file_extension": ".py",
   "mimetype": "text/x-python",
   "name": "python",
   "nbconvert_exporter": "python",
   "pygments_lexer": "ipython3",
   "version": "3.8.10"
  }
 },
 "nbformat": 4,
 "nbformat_minor": 4
}
