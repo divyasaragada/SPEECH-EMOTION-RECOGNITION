{
 "cells": [
  {
   "cell_type": "code",
   "execution_count": 28,
   "id": "77e1c8d0",
   "metadata": {},
   "outputs": [],
   "source": [
    "import numpy as np\n",
    "import pandas as pd\n",
    "import seaborn as sn\n",
    "import matplotlib.pyplot as plt\n",
    "\n",
    "from sklearn.model_selection import train_test_split\n",
    "from sklearn.metrics import classification_report,confusion_matrix,accuracy_score"
   ]
  },
  {
   "cell_type": "code",
   "execution_count": 3,
   "id": "3b044337",
   "metadata": {},
   "outputs": [],
   "source": [
    "dataframe=pd.read_csv(\"C:\\\\Users\\\\DIVYA\\\\Documents\\\\MACHINELEARNINGWORKSHOPFILES\\\\RAVDESS,TESS---new.csv\")"
   ]
  },
  {
   "cell_type": "markdown",
   "id": "b8b14102",
   "metadata": {},
   "source": [
    "Once the data is divided into attributes and labels, the final preprocessing step is to divide data into training and test sets. The model_selection library of the Scikit-Learn library contains the train_test_split method that allows us to divide data into training and test sets."
   ]
  },
  {
   "cell_type": "code",
   "execution_count": 11,
   "id": "728b9de8",
   "metadata": {},
   "outputs": [],
   "source": [
    "from sklearn.preprocessing import LabelEncoder\n",
    "dataframe['Emotion']=LabelEncoder().fit_transform(dataframe['Emotion'])\n",
    "y=dataframe.iloc[:,-1]\n",
    "x=dataframe.drop(\"Emotion\",axis=1)\n",
    "x=x.iloc[:,1:]\n",
    "\n",
    "xtrain,xtest,ytrain,ytest= train_test_split(x,y,test_size=0.3,random_state=4)"
   ]
  },
  {
   "cell_type": "code",
   "execution_count": 12,
   "id": "69907c21",
   "metadata": {},
   "outputs": [
    {
     "name": "stdout",
     "output_type": "stream",
     "text": [
      "(2968, 180) (1272, 180)\n"
     ]
    }
   ],
   "source": [
    "print(xtrain.shape,xtest.shape)"
   ]
  },
  {
   "cell_type": "code",
   "execution_count": 13,
   "id": "95ab35a1",
   "metadata": {},
   "outputs": [
    {
     "data": {
      "text/plain": [
       "(2968,)"
      ]
     },
     "execution_count": 13,
     "metadata": {},
     "output_type": "execute_result"
    }
   ],
   "source": [
    "ytrain.shape"
   ]
  },
  {
   "cell_type": "markdown",
   "id": "0573c222",
   "metadata": {},
   "source": [
    "## Implementing SVM with Scikit-Learn"
   ]
  },
  {
   "cell_type": "markdown",
   "id": "926e1f8d",
   "metadata": {},
   "source": [
    " Time to train our SVM on the training data. Scikit-Learn contains the svm library, which contains built-in classes for different SVM algorithms\n",
    "Since we are going to perform a classification task, we will use the support vector classifier class, which is written as SVC in the Scikit-Learn's svm library. We have set the kernel to linear."
   ]
  },
  {
   "cell_type": "code",
   "execution_count": 31,
   "id": "b7d0a3aa",
   "metadata": {},
   "outputs": [],
   "source": [
    "from sklearn.svm import SVC\n",
    "\n",
    "svclassifier = SVC(kernel = 'linear')"
   ]
  },
  {
   "cell_type": "code",
   "execution_count": 32,
   "id": "bf9d1058",
   "metadata": {},
   "outputs": [
    {
     "name": "stdout",
     "output_type": "stream",
     "text": [
      "Trained model in 25.281195402145386 ms \n"
     ]
    }
   ],
   "source": [
    "import time\n",
    "\n",
    "starting_time = time.time()\n",
    "svclassifier.fit(xtrain, ytrain)\n",
    "print(\"Trained model in %s ms \" % str(time.time() - starting_time))"
   ]
  },
  {
   "cell_type": "code",
   "execution_count": 33,
   "id": "6f1af4c9",
   "metadata": {},
   "outputs": [],
   "source": [
    "ypred = svclassifier.predict(xtest)"
   ]
  },
  {
   "cell_type": "code",
   "execution_count": 34,
   "id": "5d0e43c6",
   "metadata": {},
   "outputs": [
    {
     "name": "stdout",
     "output_type": "stream",
     "text": [
      "0.7610062893081762\n"
     ]
    }
   ],
   "source": [
    "print(accuracy_score(ytest,ypred))"
   ]
  },
  {
   "cell_type": "code",
   "execution_count": 22,
   "id": "b92a4d47",
   "metadata": {},
   "outputs": [
    {
     "name": "stdout",
     "output_type": "stream",
     "text": [
      "[0.74292453 0.77122642 0.7629717  0.8125     0.78537736]\n"
     ]
    }
   ],
   "source": [
    "from sklearn.model_selection import cross_val_score\n",
    "\n",
    "# no. of folds cv = 5\n",
    "cv_results = cross_val_score(svclassifier, x, y, cv = 5)\n",
    "print(cv_results)"
   ]
  },
  {
   "cell_type": "code",
   "execution_count": 24,
   "id": "16eef4fc",
   "metadata": {},
   "outputs": [
    {
     "name": "stdout",
     "output_type": "stream",
     "text": [
      "Accuracy with Scaling: 0.785377358490566\n",
      "Accuracy without Scaling: 0.7653301886792453\n"
     ]
    }
   ],
   "source": [
    "from sklearn.model_selection import train_test_split\n",
    "from sklearn.preprocessing import StandardScaler\n",
    "from sklearn.pipeline import Pipeline\n",
    "from sklearn.svm import SVC\n",
    "\n",
    "\n",
    "#splitting dataset into train/ test sets\n",
    "X_train, X_test, y_train, y_test = train_test_split(x, y, test_size = 0.20)\n",
    "\n",
    "# Setup the pipeline steps: steps\n",
    "steps = [('scaler', StandardScaler()),\n",
    "        ('SVM', SVC())]\n",
    "        \n",
    "# Create the pipeline: pipeline\n",
    "pipeline = Pipeline(steps)\n",
    "\n",
    "# Fit the pipeline to the training set: svc_scaled\n",
    "svc_scaled = pipeline.fit(X_train, y_train)\n",
    "\n",
    "# Instantiate and fit a classifier to the unscaled data\n",
    "svc_unscaled = SVC(kernel = 'linear').fit(X_train, y_train)\n",
    "\n",
    "# Compute and print metrics\n",
    "print('Accuracy with Scaling: {}'.format(svc_scaled.score(X_test, y_test)))\n",
    "print('Accuracy without Scaling: {}'.format(svc_unscaled.score(X_test, y_test)))"
   ]
  },
  {
   "cell_type": "code",
   "execution_count": 30,
   "id": "4d2072b2",
   "metadata": {},
   "outputs": [
    {
     "name": "stdout",
     "output_type": "stream",
     "text": [
      "----train accuracy score 82.01650943396226 ----\n",
      "----test accuracy score 78.5377358490566 ----\n"
     ]
    }
   ],
   "source": [
    "scaled_predictions = svc_scaled.predict(X_test)\n",
    "train_acc = float(svc_scaled.score(X_train, y_train)*100)\n",
    "print(\"----train accuracy score %s ----\" % train_acc)\n",
    "\n",
    "test_acc = float(svc_scaled.score(X_test, y_test)*100)\n",
    "print(\"----test accuracy score %s ----\" % test_acc)"
   ]
  },
  {
   "cell_type": "code",
   "execution_count": 29,
   "id": "54b38b91",
   "metadata": {},
   "outputs": [
    {
     "name": "stdout",
     "output_type": "stream",
     "text": [
      "              precision    recall  f1-score   support\n",
      "\n",
      "           0       0.90      0.83      0.86       126\n",
      "           1       0.42      0.77      0.55        39\n",
      "           2       0.71      0.82      0.76       132\n",
      "           3       0.91      0.77      0.83       112\n",
      "           4       0.87      0.69      0.77       105\n",
      "           5       1.00      0.77      0.87       113\n",
      "           6       0.78      0.77      0.78       108\n",
      "           7       0.70      0.85      0.76       113\n",
      "\n",
      "    accuracy                           0.79       848\n",
      "   macro avg       0.79      0.78      0.77       848\n",
      "weighted avg       0.82      0.79      0.79       848\n",
      "\n",
      "----accuracy score 78.5377358490566 ----\n"
     ]
    },
    {
     "data": {
      "image/png": "[encoded data removed]",
      "text/plain": [
       "<Figure size 432x288 with 2 Axes>"
      ]
     },
     "metadata": {
      "needs_background": "light"
     },
     "output_type": "display_data"
    }
   ],
   "source": [
    "print(classification_report(y_test,scaled_predictions))\n",
    "\n",
    "acc = float(accuracy_score(y_test,scaled_predictions))*100\n",
    "print(\"----accuracy score %s ----\" % acc)\n",
    "\n",
    "cm = confusion_matrix(y_test,scaled_predictions)\n",
    "df_cm = pd.DataFrame(cm)\n",
    "sn.heatmap(df_cm, annot=True, fmt='')\n",
    "plt.show()"
   ]
  },
  {
   "cell_type": "code",
   "execution_count": null,
   "id": "582c9261",
   "metadata": {},
   "outputs": [],
   "source": []
  }
 ],
 "metadata": {
  "kernelspec": {
   "display_name": "Python 3",
   "language": "python",
   "name": "python3"
  },
  "language_info": {
   "codemirror_mode": {
    "name": "ipython",
    "version": 3
   },
   "file_extension": ".py",
   "mimetype": "text/x-python",
   "name": "python",
   "nbconvert_exporter": "python",
   "pygments_lexer": "ipython3",
   "version": "3.8.10"
  }
 },
 "nbformat": 4,
 "nbformat_minor": 5
}
