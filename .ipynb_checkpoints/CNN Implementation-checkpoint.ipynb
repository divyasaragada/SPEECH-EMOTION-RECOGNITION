{
 "cells": [
  {
   "cell_type": "code",
   "execution_count": 10,
   "metadata": {},
   "outputs": [],
   "source": [
    "import numpy as np\n",
    "import pandas as pd\n",
    "from sklearn.model_selection import train_test_split"
   ]
  },
  {
   "cell_type": "markdown",
   "metadata": {},
   "source": [
    "## Create train and test data"
   ]
  },
  {
   "cell_type": "code",
   "execution_count": 11,
   "metadata": {},
   "outputs": [],
   "source": [
    "dataframe=pd.read_csv(\"C:\\\\Users\\\\DIVYA\\\\Documents\\\\MACHINELEARNINGWORKSHOPFILES\\\\RAVDESS,TESS---new.csv\")"
   ]
  },
  {
   "cell_type": "code",
   "execution_count": 12,
   "metadata": {},
   "outputs": [],
   "source": [
    "from sklearn.preprocessing import LabelEncoder\n",
    "dataframe['Emotion']=LabelEncoder().fit_transform(dataframe['Emotion'])\n",
    "y=dataframe[[\"Emotion\"]]\n",
    "x=dataframe.drop(\"Emotion\",axis=1)\n",
    "x=x.iloc[:,1:]\n",
    "\n",
    "xtrain,xtest,ytrain,ytest= train_test_split(x,y,test_size=0.3,random_state=4)"
   ]
  },
  {
   "cell_type": "code",
   "execution_count": 13,
   "metadata": {},
   "outputs": [],
   "source": [
    "emotions={\n",
    "  0:'angry',\n",
    "  1:'calm',\n",
    "  2:'disguist',\n",
    "  3:'fear',\n",
    "  4:'happy',\n",
    "  5:'neutral',\n",
    "  6:'sad',\n",
    "  7:'surprised'\n",
    "}"
   ]
  },
  {
   "cell_type": "code",
   "execution_count": 14,
   "metadata": {},
   "outputs": [
    {
     "name": "stdout",
     "output_type": "stream",
     "text": [
      "(2968, 180) (1272, 180)\n"
     ]
    }
   ],
   "source": [
    "print(xtrain.shape,xtest.shape)"
   ]
  },
  {
   "cell_type": "code",
   "execution_count": null,
   "metadata": {},
   "outputs": [],
   "source": []
  },
  {
   "cell_type": "code",
   "execution_count": null,
   "metadata": {},
   "outputs": [],
   "source": []
  },
  {
   "cell_type": "markdown",
   "metadata": {},
   "source": [
    "## Add an axis (extra dimension) to input sets---grey scale image-1"
   ]
  },
  {
   "cell_type": "code",
   "execution_count": 15,
   "metadata": {},
   "outputs": [
    {
     "name": "stdout",
     "output_type": "stream",
     "text": [
      "(2968, 180, 1) (1272, 180, 1)\n"
     ]
    }
   ],
   "source": [
    "x_traincnn = np.expand_dims(xtrain, axis=2)\n",
    "x_testcnn = np.expand_dims(xtest, axis=2)\n",
    "print(x_traincnn.shape,x_testcnn.shape)"
   ]
  },
  {
   "cell_type": "code",
   "execution_count": 16,
   "metadata": {},
   "outputs": [],
   "source": [
    "ytrain=np.array(ytrain)\n",
    "ytest=np.array(ytest)"
   ]
  },
  {
   "cell_type": "markdown",
   "metadata": {},
   "source": [
    "## Building the Model using CNN"
   ]
  },
  {
   "cell_type": "code",
   "execution_count": 51,
   "metadata": {},
   "outputs": [],
   "source": [
    "import matplotlib.pyplot as plt\n",
    "import tensorflow.keras as keras\n",
    "\n",
    "from keras.preprocessing import sequence\n",
    "from keras.models import Sequential\n",
    "from keras.layers import Dense, Embedding\n",
    "from keras.utils import to_categorical\n",
    "from keras.layers import Input, Flatten, Dropout, Activation\n",
    "from keras.layers import Conv1D, MaxPooling1D\n",
    "from keras.models import Model\n",
    "from keras.callbacks import ModelCheckpoint\n",
    "\n",
    "model = Sequential()\n",
    "#first layer\n",
    "model.add(Conv1D(64, 6,padding='same',\n",
    "                 input_shape=(180,1)))\n",
    "model.add(Activation('relu'))\n",
    "model.add(Dropout(0.1))\n",
    "model.add(MaxPooling1D(pool_size=(4)))\n",
    "\n",
    "#second layer\n",
    "model.add(Conv1D(128, 6,padding='same',))\n",
    "model.add(Activation('relu'))\n",
    "model.add(Dropout(0.1))\n",
    "model.add(MaxPooling1D(pool_size=(4)))\n",
    "\n",
    "#third layer\n",
    "model.add(Conv1D(256, 6,padding='same',))\n",
    "model.add(Activation('relu'))\n",
    "model.add(Dropout(0.1))\n",
    "\n",
    "#dense layer\n",
    "model.add(Flatten())\n",
    "model.add(Dense(8))\n",
    "model.add(Activation('softmax'))\n",
    "opt = keras.optimizers.RMSprop(lr=0.00005)"
   ]
  },
  {
   "cell_type": "code",
   "execution_count": 52,
   "metadata": {},
   "outputs": [
    {
     "name": "stdout",
     "output_type": "stream",
     "text": [
      "Model: \"sequential_5\"\n",
      "_________________________________________________________________\n",
      "Layer (type)                 Output Shape              Param #   \n",
      "=================================================================\n",
      "conv1d_15 (Conv1D)           (None, 180, 64)           448       \n",
      "_________________________________________________________________\n",
      "activation_20 (Activation)   (None, 180, 64)           0         \n",
      "_________________________________________________________________\n",
      "dropout_15 (Dropout)         (None, 180, 64)           0         \n",
      "_________________________________________________________________\n",
      "max_pooling1d_10 (MaxPooling (None, 45, 64)            0         \n",
      "_________________________________________________________________\n",
      "conv1d_16 (Conv1D)           (None, 45, 128)           49280     \n",
      "_________________________________________________________________\n",
      "activation_21 (Activation)   (None, 45, 128)           0         \n",
      "_________________________________________________________________\n",
      "dropout_16 (Dropout)         (None, 45, 128)           0         \n",
      "_________________________________________________________________\n",
      "max_pooling1d_11 (MaxPooling (None, 11, 128)           0         \n",
      "_________________________________________________________________\n",
      "conv1d_17 (Conv1D)           (None, 11, 256)           196864    \n",
      "_________________________________________________________________\n",
      "activation_22 (Activation)   (None, 11, 256)           0         \n",
      "_________________________________________________________________\n",
      "dropout_17 (Dropout)         (None, 11, 256)           0         \n",
      "_________________________________________________________________\n",
      "flatten_5 (Flatten)          (None, 2816)              0         \n",
      "_________________________________________________________________\n",
      "dense_5 (Dense)              (None, 8)                 22536     \n",
      "_________________________________________________________________\n",
      "activation_23 (Activation)   (None, 8)                 0         \n",
      "=================================================================\n",
      "Total params: 269,128\n",
      "Trainable params: 269,128\n",
      "Non-trainable params: 0\n",
      "_________________________________________________________________\n"
     ]
    }
   ],
   "source": [
    "model.summary()"
   ]
  },
  {
   "cell_type": "code",
   "execution_count": 53,
   "metadata": {},
   "outputs": [
    {
     "name": "stdout",
     "output_type": "stream",
     "text": [
      "Epoch 1/150\n",
      "186/186 [==============================] - 4s 23ms/step - loss: 1.9068 - accuracy: 0.3413 - val_loss: 1.3757 - val_accuracy: 0.5299\n",
      "Epoch 2/150\n",
      "186/186 [==============================] - 4s 22ms/step - loss: 1.3602 - accuracy: 0.5391 - val_loss: 1.1028 - val_accuracy: 0.6840\n",
      "Epoch 3/150\n",
      "186/186 [==============================] - 4s 21ms/step - loss: 1.1597 - accuracy: 0.6038 - val_loss: 1.0209 - val_accuracy: 0.6619\n",
      "Epoch 4/150\n",
      "186/186 [==============================] - 4s 21ms/step - loss: 1.0260 - accuracy: 0.6523 - val_loss: 0.9167 - val_accuracy: 0.7178\n",
      "Epoch 5/150\n",
      "186/186 [==============================] - 4s 22ms/step - loss: 0.9483 - accuracy: 0.6836 - val_loss: 0.8447 - val_accuracy: 0.7201\n",
      "Epoch 6/150\n",
      "186/186 [==============================] - 4s 21ms/step - loss: 0.8694 - accuracy: 0.7106 - val_loss: 0.8218 - val_accuracy: 0.7186\n",
      "Epoch 7/150\n",
      "186/186 [==============================] - 4s 21ms/step - loss: 0.8289 - accuracy: 0.7305 - val_loss: 0.7758 - val_accuracy: 0.7343\n",
      "Epoch 8/150\n",
      "186/186 [==============================] - 3s 18ms/step - loss: 0.7854 - accuracy: 0.7264 - val_loss: 0.7811 - val_accuracy: 0.7264\n",
      "Epoch 9/150\n",
      "186/186 [==============================] - 4s 21ms/step - loss: 0.7570 - accuracy: 0.7423 - val_loss: 0.7247 - val_accuracy: 0.7484\n",
      "Epoch 10/150\n",
      "186/186 [==============================] - 4s 21ms/step - loss: 0.7332 - accuracy: 0.7412 - val_loss: 0.7072 - val_accuracy: 0.7437\n",
      "Epoch 11/150\n",
      "186/186 [==============================] - 4s 21ms/step - loss: 0.7123 - accuracy: 0.7500 - val_loss: 0.6973 - val_accuracy: 0.7469\n",
      "Epoch 12/150\n",
      "186/186 [==============================] - 3s 18ms/step - loss: 0.6939 - accuracy: 0.7581 - val_loss: 0.6640 - val_accuracy: 0.7665\n",
      "Epoch 13/150\n",
      "186/186 [==============================] - 4s 21ms/step - loss: 0.6630 - accuracy: 0.7645 - val_loss: 0.6724 - val_accuracy: 0.7579\n",
      "Epoch 14/150\n",
      "186/186 [==============================] - 4s 21ms/step - loss: 0.6597 - accuracy: 0.7662 - val_loss: 0.6584 - val_accuracy: 0.7634\n",
      "Epoch 15/150\n",
      "186/186 [==============================] - 4s 21ms/step - loss: 0.6564 - accuracy: 0.7702 - val_loss: 0.6782 - val_accuracy: 0.7563\n",
      "Epoch 16/150\n",
      "186/186 [==============================] - 3s 18ms/step - loss: 0.6326 - accuracy: 0.7692 - val_loss: 0.6344 - val_accuracy: 0.7720\n",
      "Epoch 17/150\n",
      "186/186 [==============================] - 4s 20ms/step - loss: 0.6219 - accuracy: 0.7743 - val_loss: 0.6362 - val_accuracy: 0.7657\n",
      "Epoch 18/150\n",
      "186/186 [==============================] - 4s 21ms/step - loss: 0.6165 - accuracy: 0.7786 - val_loss: 0.6214 - val_accuracy: 0.7689\n",
      "Epoch 19/150\n",
      "186/186 [==============================] - 4s 21ms/step - loss: 0.6068 - accuracy: 0.7807 - val_loss: 0.6113 - val_accuracy: 0.7720\n",
      "Epoch 20/150\n",
      "186/186 [==============================] - 4s 21ms/step - loss: 0.5973 - accuracy: 0.7844 - val_loss: 0.6102 - val_accuracy: 0.7728\n",
      "Epoch 21/150\n",
      "186/186 [==============================] - 4s 20ms/step - loss: 0.5942 - accuracy: 0.7786 - val_loss: 0.6110 - val_accuracy: 0.7704\n",
      "Epoch 22/150\n",
      "186/186 [==============================] - 4s 21ms/step - loss: 0.5877 - accuracy: 0.7823 - val_loss: 0.6026 - val_accuracy: 0.7657\n",
      "Epoch 23/150\n",
      "186/186 [==============================] - 3s 17ms/step - loss: 0.5839 - accuracy: 0.7884 - val_loss: 0.5827 - val_accuracy: 0.7909\n",
      "Epoch 24/150\n",
      "186/186 [==============================] - 3s 17ms/step - loss: 0.5639 - accuracy: 0.7928 - val_loss: 0.5942 - val_accuracy: 0.7767\n",
      "Epoch 25/150\n",
      "186/186 [==============================] - 3s 15ms/step - loss: 0.5610 - accuracy: 0.7945 - val_loss: 0.5798 - val_accuracy: 0.7893\n",
      "Epoch 26/150\n",
      "186/186 [==============================] - 4s 22ms/step - loss: 0.5527 - accuracy: 0.7955 - val_loss: 0.5897 - val_accuracy: 0.7846\n",
      "Epoch 27/150\n",
      "186/186 [==============================] - 4s 21ms/step - loss: 0.5432 - accuracy: 0.7945 - val_loss: 0.5898 - val_accuracy: 0.7767\n",
      "Epoch 28/150\n",
      "186/186 [==============================] - 4s 21ms/step - loss: 0.5404 - accuracy: 0.8029 - val_loss: 0.5763 - val_accuracy: 0.7877\n",
      "Epoch 29/150\n",
      "186/186 [==============================] - 4s 19ms/step - loss: 0.5379 - accuracy: 0.8002 - val_loss: 0.5760 - val_accuracy: 0.7972\n",
      "Epoch 30/150\n",
      "186/186 [==============================] - 4s 20ms/step - loss: 0.5313 - accuracy: 0.8032 - val_loss: 0.5650 - val_accuracy: 0.7925\n",
      "Epoch 31/150\n",
      "186/186 [==============================] - 4s 21ms/step - loss: 0.5209 - accuracy: 0.8083 - val_loss: 0.5530 - val_accuracy: 0.7956\n",
      "Epoch 32/150\n",
      "186/186 [==============================] - 4s 21ms/step - loss: 0.5209 - accuracy: 0.8106 - val_loss: 0.5469 - val_accuracy: 0.8019\n",
      "Epoch 33/150\n",
      "186/186 [==============================] - 4s 21ms/step - loss: 0.5155 - accuracy: 0.8130 - val_loss: 0.5504 - val_accuracy: 0.8003\n",
      "Epoch 34/150\n",
      "186/186 [==============================] - 3s 18ms/step - loss: 0.5063 - accuracy: 0.8123 - val_loss: 0.5441 - val_accuracy: 0.7995\n",
      "Epoch 35/150\n",
      "186/186 [==============================] - 4s 21ms/step - loss: 0.5047 - accuracy: 0.8140 - val_loss: 0.5669 - val_accuracy: 0.7885\n",
      "Epoch 36/150\n",
      "186/186 [==============================] - 4s 21ms/step - loss: 0.5094 - accuracy: 0.8164 - val_loss: 0.5487 - val_accuracy: 0.7925\n",
      "Epoch 37/150\n",
      "186/186 [==============================] - 4s 21ms/step - loss: 0.4920 - accuracy: 0.8170 - val_loss: 0.5654 - val_accuracy: 0.7940\n",
      "Epoch 38/150\n",
      "186/186 [==============================] - 3s 18ms/step - loss: 0.4848 - accuracy: 0.8133 - val_loss: 0.5396 - val_accuracy: 0.8003\n",
      "Epoch 39/150\n",
      "186/186 [==============================] - 4s 21ms/step - loss: 0.4850 - accuracy: 0.8194 - val_loss: 0.5328 - val_accuracy: 0.8113\n",
      "Epoch 40/150\n",
      "186/186 [==============================] - 4s 21ms/step - loss: 0.4787 - accuracy: 0.8191 - val_loss: 0.5316 - val_accuracy: 0.8003\n",
      "Epoch 41/150\n",
      "186/186 [==============================] - 4s 21ms/step - loss: 0.4821 - accuracy: 0.8258 - val_loss: 0.5439 - val_accuracy: 0.8105\n",
      "Epoch 42/150\n",
      "186/186 [==============================] - 3s 18ms/step - loss: 0.4727 - accuracy: 0.8245 - val_loss: 0.5451 - val_accuracy: 0.8019\n",
      "Epoch 43/150\n",
      "186/186 [==============================] - 4s 20ms/step - loss: 0.4699 - accuracy: 0.8292 - val_loss: 0.5337 - val_accuracy: 0.8066\n",
      "Epoch 44/150\n",
      "186/186 [==============================] - 4s 21ms/step - loss: 0.4663 - accuracy: 0.8309 - val_loss: 0.5358 - val_accuracy: 0.7948\n",
      "Epoch 45/150\n",
      "186/186 [==============================] - 4s 21ms/step - loss: 0.4642 - accuracy: 0.8288 - val_loss: 0.5251 - val_accuracy: 0.8082\n",
      "Epoch 46/150\n",
      "186/186 [==============================] - 4s 19ms/step - loss: 0.4583 - accuracy: 0.8329 - val_loss: 0.5325 - val_accuracy: 0.7948\n",
      "Epoch 47/150\n",
      "186/186 [==============================] - 4s 20ms/step - loss: 0.4549 - accuracy: 0.8329 - val_loss: 0.5297 - val_accuracy: 0.8129\n",
      "Epoch 48/150\n",
      "186/186 [==============================] - 4s 21ms/step - loss: 0.4617 - accuracy: 0.8258 - val_loss: 0.5272 - val_accuracy: 0.8105\n",
      "Epoch 49/150\n",
      "186/186 [==============================] - 4s 21ms/step - loss: 0.4503 - accuracy: 0.8325 - val_loss: 0.5162 - val_accuracy: 0.8066\n",
      "Epoch 50/150\n",
      "186/186 [==============================] - 4s 20ms/step - loss: 0.4377 - accuracy: 0.8413 - val_loss: 0.5315 - val_accuracy: 0.8121\n",
      "Epoch 51/150\n",
      "186/186 [==============================] - 4s 19ms/step - loss: 0.4470 - accuracy: 0.8406 - val_loss: 0.5311 - val_accuracy: 0.8082\n",
      "Epoch 52/150\n",
      "186/186 [==============================] - 4s 21ms/step - loss: 0.4410 - accuracy: 0.8379 - val_loss: 0.5192 - val_accuracy: 0.8082\n",
      "Epoch 53/150\n",
      "186/186 [==============================] - 4s 21ms/step - loss: 0.4350 - accuracy: 0.8376 - val_loss: 0.5279 - val_accuracy: 0.8145\n",
      "Epoch 54/150\n",
      "186/186 [==============================] - 4s 21ms/step - loss: 0.4302 - accuracy: 0.8400 - val_loss: 0.5248 - val_accuracy: 0.8082\n",
      "Epoch 55/150\n",
      "186/186 [==============================] - 3s 18ms/step - loss: 0.4261 - accuracy: 0.8389 - val_loss: 0.5058 - val_accuracy: 0.8239\n",
      "Epoch 56/150\n",
      "186/186 [==============================] - 4s 21ms/step - loss: 0.4299 - accuracy: 0.8467 - val_loss: 0.5078 - val_accuracy: 0.8145\n",
      "Epoch 57/150\n"
     ]
    },
    {
     "name": "stdout",
     "output_type": "stream",
     "text": [
      "186/186 [==============================] - 4s 19ms/step - loss: 0.4262 - accuracy: 0.8457 - val_loss: 0.4989 - val_accuracy: 0.8200\n",
      "Epoch 58/150\n",
      "186/186 [==============================] - 4s 21ms/step - loss: 0.4170 - accuracy: 0.8507 - val_loss: 0.5005 - val_accuracy: 0.8153\n",
      "Epoch 59/150\n",
      "186/186 [==============================] - 3s 19ms/step - loss: 0.4090 - accuracy: 0.8568 - val_loss: 0.5070 - val_accuracy: 0.8129\n",
      "Epoch 60/150\n",
      "186/186 [==============================] - 4s 21ms/step - loss: 0.4103 - accuracy: 0.8467 - val_loss: 0.5111 - val_accuracy: 0.8184\n",
      "Epoch 61/150\n",
      "186/186 [==============================] - 4s 21ms/step - loss: 0.4149 - accuracy: 0.8501 - val_loss: 0.5025 - val_accuracy: 0.8263\n",
      "Epoch 62/150\n",
      "186/186 [==============================] - 4s 21ms/step - loss: 0.4009 - accuracy: 0.8538 - val_loss: 0.5037 - val_accuracy: 0.8137\n",
      "Epoch 63/150\n",
      "186/186 [==============================] - 3s 19ms/step - loss: 0.4082 - accuracy: 0.8518 - val_loss: 0.4952 - val_accuracy: 0.8231\n",
      "Epoch 64/150\n",
      "186/186 [==============================] - 4s 20ms/step - loss: 0.4022 - accuracy: 0.8565 - val_loss: 0.5071 - val_accuracy: 0.8200\n",
      "Epoch 65/150\n",
      "186/186 [==============================] - 4s 21ms/step - loss: 0.3992 - accuracy: 0.8534 - val_loss: 0.4887 - val_accuracy: 0.8223\n",
      "Epoch 66/150\n",
      "186/186 [==============================] - 4s 21ms/step - loss: 0.4017 - accuracy: 0.8504 - val_loss: 0.5050 - val_accuracy: 0.8294\n",
      "Epoch 67/150\n",
      "186/186 [==============================] - 4s 20ms/step - loss: 0.3915 - accuracy: 0.8588 - val_loss: 0.4961 - val_accuracy: 0.8208\n",
      "Epoch 68/150\n",
      "186/186 [==============================] - 4s 20ms/step - loss: 0.3888 - accuracy: 0.8582 - val_loss: 0.5144 - val_accuracy: 0.8153\n",
      "Epoch 69/150\n",
      "186/186 [==============================] - 4s 21ms/step - loss: 0.3982 - accuracy: 0.8521 - val_loss: 0.4927 - val_accuracy: 0.8231\n",
      "Epoch 70/150\n",
      "186/186 [==============================] - 4s 21ms/step - loss: 0.3889 - accuracy: 0.8629 - val_loss: 0.4826 - val_accuracy: 0.8215\n",
      "Epoch 71/150\n",
      "186/186 [==============================] - 4s 21ms/step - loss: 0.3783 - accuracy: 0.8595 - val_loss: 0.4828 - val_accuracy: 0.8231\n",
      "Epoch 72/150\n",
      "186/186 [==============================] - 3s 19ms/step - loss: 0.3734 - accuracy: 0.8595 - val_loss: 0.4851 - val_accuracy: 0.8294\n",
      "Epoch 73/150\n",
      "186/186 [==============================] - 4s 22ms/step - loss: 0.3692 - accuracy: 0.8703 - val_loss: 0.4969 - val_accuracy: 0.8333\n",
      "Epoch 74/150\n",
      "186/186 [==============================] - 4s 22ms/step - loss: 0.3672 - accuracy: 0.8662 - val_loss: 0.5033 - val_accuracy: 0.8192\n",
      "Epoch 75/150\n",
      "186/186 [==============================] - 4s 22ms/step - loss: 0.3650 - accuracy: 0.8679 - val_loss: 0.4827 - val_accuracy: 0.8255\n",
      "Epoch 76/150\n",
      "186/186 [==============================] - 3s 18ms/step - loss: 0.3612 - accuracy: 0.8723 - val_loss: 0.4874 - val_accuracy: 0.8310\n",
      "Epoch 77/150\n",
      "186/186 [==============================] - 4s 22ms/step - loss: 0.3632 - accuracy: 0.8683 - val_loss: 0.4996 - val_accuracy: 0.8302\n",
      "Epoch 78/150\n",
      "186/186 [==============================] - 4s 22ms/step - loss: 0.3570 - accuracy: 0.8726 - val_loss: 0.4734 - val_accuracy: 0.8286\n",
      "Epoch 79/150\n",
      "186/186 [==============================] - 4s 22ms/step - loss: 0.3445 - accuracy: 0.8757 - val_loss: 0.4804 - val_accuracy: 0.8286\n",
      "Epoch 80/150\n",
      "186/186 [==============================] - 3s 18ms/step - loss: 0.3557 - accuracy: 0.8706 - val_loss: 0.4858 - val_accuracy: 0.8215\n",
      "Epoch 81/150\n",
      "186/186 [==============================] - 4s 22ms/step - loss: 0.3417 - accuracy: 0.8787 - val_loss: 0.4713 - val_accuracy: 0.8333\n",
      "Epoch 82/150\n",
      "186/186 [==============================] - 4s 22ms/step - loss: 0.3399 - accuracy: 0.8797 - val_loss: 0.4949 - val_accuracy: 0.8278\n",
      "Epoch 83/150\n",
      "186/186 [==============================] - 4s 22ms/step - loss: 0.3417 - accuracy: 0.8689 - val_loss: 0.4811 - val_accuracy: 0.8286\n",
      "Epoch 84/150\n",
      "186/186 [==============================] - 3s 18ms/step - loss: 0.3340 - accuracy: 0.8784 - val_loss: 0.4852 - val_accuracy: 0.8310\n",
      "Epoch 85/150\n",
      "186/186 [==============================] - 4s 22ms/step - loss: 0.3334 - accuracy: 0.8841 - val_loss: 0.4903 - val_accuracy: 0.8278\n",
      "Epoch 86/150\n",
      "186/186 [==============================] - 4s 22ms/step - loss: 0.3360 - accuracy: 0.8747 - val_loss: 0.4672 - val_accuracy: 0.8333\n",
      "Epoch 87/150\n",
      "186/186 [==============================] - 4s 22ms/step - loss: 0.3287 - accuracy: 0.8804 - val_loss: 0.5134 - val_accuracy: 0.8200\n",
      "Epoch 88/150\n",
      "186/186 [==============================] - 3s 18ms/step - loss: 0.3341 - accuracy: 0.8780 - val_loss: 0.4920 - val_accuracy: 0.8192\n",
      "Epoch 89/150\n",
      "186/186 [==============================] - 4s 22ms/step - loss: 0.3175 - accuracy: 0.8875 - val_loss: 0.4838 - val_accuracy: 0.8286\n",
      "Epoch 90/150\n",
      "186/186 [==============================] - 4s 22ms/step - loss: 0.3269 - accuracy: 0.8817 - val_loss: 0.4733 - val_accuracy: 0.8310\n",
      "Epoch 91/150\n",
      "186/186 [==============================] - 4s 22ms/step - loss: 0.3198 - accuracy: 0.8854 - val_loss: 0.4798 - val_accuracy: 0.8294\n",
      "Epoch 92/150\n",
      "186/186 [==============================] - 3s 18ms/step - loss: 0.3168 - accuracy: 0.8875 - val_loss: 0.4907 - val_accuracy: 0.8310\n",
      "Epoch 93/150\n",
      "186/186 [==============================] - 4s 22ms/step - loss: 0.3144 - accuracy: 0.8868 - val_loss: 0.4851 - val_accuracy: 0.8286\n",
      "Epoch 94/150\n",
      "186/186 [==============================] - 4s 22ms/step - loss: 0.3202 - accuracy: 0.8844 - val_loss: 0.4867 - val_accuracy: 0.8270\n",
      "Epoch 95/150\n",
      "186/186 [==============================] - 4s 22ms/step - loss: 0.3026 - accuracy: 0.8908 - val_loss: 0.4812 - val_accuracy: 0.8333\n",
      "Epoch 96/150\n",
      "186/186 [==============================] - 4s 19ms/step - loss: 0.3022 - accuracy: 0.8915 - val_loss: 0.4838 - val_accuracy: 0.8373\n",
      "Epoch 97/150\n",
      "186/186 [==============================] - 4s 22ms/step - loss: 0.3108 - accuracy: 0.8871 - val_loss: 0.5066 - val_accuracy: 0.8341\n",
      "Epoch 98/150\n",
      "186/186 [==============================] - 4s 22ms/step - loss: 0.3051 - accuracy: 0.8892 - val_loss: 0.4811 - val_accuracy: 0.8396\n",
      "Epoch 99/150\n",
      "186/186 [==============================] - 4s 22ms/step - loss: 0.2941 - accuracy: 0.8908 - val_loss: 0.4789 - val_accuracy: 0.8404\n",
      "Epoch 100/150\n",
      "186/186 [==============================] - 4s 19ms/step - loss: 0.3036 - accuracy: 0.8939 - val_loss: 0.4798 - val_accuracy: 0.8357\n",
      "Epoch 101/150\n",
      "186/186 [==============================] - 4s 21ms/step - loss: 0.2960 - accuracy: 0.8942 - val_loss: 0.4824 - val_accuracy: 0.8310\n",
      "Epoch 102/150\n",
      "186/186 [==============================] - 4s 22ms/step - loss: 0.2896 - accuracy: 0.8979 - val_loss: 0.4841 - val_accuracy: 0.8381\n",
      "Epoch 103/150\n",
      "186/186 [==============================] - 4s 22ms/step - loss: 0.2946 - accuracy: 0.8969 - val_loss: 0.4828 - val_accuracy: 0.8436\n",
      "Epoch 104/150\n",
      "186/186 [==============================] - 4s 20ms/step - loss: 0.2901 - accuracy: 0.8976 - val_loss: 0.4880 - val_accuracy: 0.8286\n",
      "Epoch 105/150\n",
      "186/186 [==============================] - 4s 20ms/step - loss: 0.2911 - accuracy: 0.8962 - val_loss: 0.4803 - val_accuracy: 0.8333\n",
      "Epoch 106/150\n",
      "186/186 [==============================] - 4s 22ms/step - loss: 0.2836 - accuracy: 0.8986 - val_loss: 0.4826 - val_accuracy: 0.8396\n",
      "Epoch 107/150\n",
      "186/186 [==============================] - 4s 22ms/step - loss: 0.2820 - accuracy: 0.9016 - val_loss: 0.4717 - val_accuracy: 0.8388\n",
      "Epoch 108/150\n",
      "186/186 [==============================] - 4s 20ms/step - loss: 0.2681 - accuracy: 0.9100 - val_loss: 0.4651 - val_accuracy: 0.8475\n",
      "Epoch 109/150\n",
      "186/186 [==============================] - 4s 20ms/step - loss: 0.2805 - accuracy: 0.9016 - val_loss: 0.4860 - val_accuracy: 0.8388\n",
      "Epoch 110/150\n",
      "186/186 [==============================] - 4s 22ms/step - loss: 0.2678 - accuracy: 0.9121 - val_loss: 0.4888 - val_accuracy: 0.8365\n",
      "Epoch 111/150\n",
      "186/186 [==============================] - 4s 22ms/step - loss: 0.2777 - accuracy: 0.8986 - val_loss: 0.4801 - val_accuracy: 0.8396\n",
      "Epoch 112/150\n",
      "186/186 [==============================] - 4s 21ms/step - loss: 0.2754 - accuracy: 0.9070 - val_loss: 0.4806 - val_accuracy: 0.8341\n",
      "Epoch 113/150\n"
     ]
    },
    {
     "name": "stdout",
     "output_type": "stream",
     "text": [
      "186/186 [==============================] - 4s 19ms/step - loss: 0.2666 - accuracy: 0.9040 - val_loss: 0.4966 - val_accuracy: 0.8310\n",
      "Epoch 114/150\n",
      "186/186 [==============================] - 4s 22ms/step - loss: 0.2704 - accuracy: 0.9087 - val_loss: 0.4991 - val_accuracy: 0.8318\n",
      "Epoch 115/150\n",
      "186/186 [==============================] - 4s 22ms/step - loss: 0.2628 - accuracy: 0.9013 - val_loss: 0.4993 - val_accuracy: 0.8357\n",
      "Epoch 116/150\n",
      "186/186 [==============================] - 4s 21ms/step - loss: 0.2590 - accuracy: 0.9141 - val_loss: 0.5284 - val_accuracy: 0.8357\n",
      "Epoch 117/150\n",
      "186/186 [==============================] - 3s 19ms/step - loss: 0.2608 - accuracy: 0.9077 - val_loss: 0.4694 - val_accuracy: 0.8436\n",
      "Epoch 118/150\n",
      "186/186 [==============================] - 4s 22ms/step - loss: 0.2592 - accuracy: 0.9111 - val_loss: 0.4839 - val_accuracy: 0.8428\n",
      "Epoch 119/150\n",
      "186/186 [==============================] - 4s 21ms/step - loss: 0.2480 - accuracy: 0.9151 - val_loss: 0.4929 - val_accuracy: 0.8530\n",
      "Epoch 120/150\n",
      "186/186 [==============================] - 4s 22ms/step - loss: 0.2593 - accuracy: 0.9077 - val_loss: 0.4745 - val_accuracy: 0.8436\n",
      "Epoch 121/150\n",
      "186/186 [==============================] - 3s 18ms/step - loss: 0.2507 - accuracy: 0.9104 - val_loss: 0.4605 - val_accuracy: 0.8498\n",
      "Epoch 122/150\n",
      "186/186 [==============================] - 4s 21ms/step - loss: 0.2537 - accuracy: 0.9111 - val_loss: 0.4912 - val_accuracy: 0.8483\n",
      "Epoch 123/150\n",
      "186/186 [==============================] - 4s 22ms/step - loss: 0.2452 - accuracy: 0.9154 - val_loss: 0.4928 - val_accuracy: 0.8506\n",
      "Epoch 124/150\n",
      "186/186 [==============================] - 4s 22ms/step - loss: 0.2397 - accuracy: 0.9201 - val_loss: 0.4661 - val_accuracy: 0.8483\n",
      "Epoch 125/150\n",
      "186/186 [==============================] - 3s 18ms/step - loss: 0.2411 - accuracy: 0.9134 - val_loss: 0.4745 - val_accuracy: 0.8443\n",
      "Epoch 126/150\n",
      "186/186 [==============================] - 4s 22ms/step - loss: 0.2414 - accuracy: 0.9158 - val_loss: 0.5136 - val_accuracy: 0.8443\n",
      "Epoch 127/150\n",
      "186/186 [==============================] - 4s 22ms/step - loss: 0.2390 - accuracy: 0.9175 - val_loss: 0.5013 - val_accuracy: 0.8443\n",
      "Epoch 128/150\n",
      "186/186 [==============================] - 4s 22ms/step - loss: 0.2444 - accuracy: 0.9117 - val_loss: 0.4971 - val_accuracy: 0.8373\n",
      "Epoch 129/150\n",
      "186/186 [==============================] - 3s 18ms/step - loss: 0.2306 - accuracy: 0.9154 - val_loss: 0.4916 - val_accuracy: 0.8349\n",
      "Epoch 130/150\n",
      "186/186 [==============================] - 4s 21ms/step - loss: 0.2309 - accuracy: 0.9188 - val_loss: 0.4690 - val_accuracy: 0.8467\n",
      "Epoch 131/150\n",
      "186/186 [==============================] - 4s 21ms/step - loss: 0.2265 - accuracy: 0.9195 - val_loss: 0.4807 - val_accuracy: 0.8491\n",
      "Epoch 132/150\n",
      "186/186 [==============================] - 4s 21ms/step - loss: 0.2232 - accuracy: 0.9205 - val_loss: 0.4854 - val_accuracy: 0.8412\n",
      "Epoch 133/150\n",
      "186/186 [==============================] - 3s 18ms/step - loss: 0.2243 - accuracy: 0.9212 - val_loss: 0.5119 - val_accuracy: 0.8412\n",
      "Epoch 134/150\n",
      "186/186 [==============================] - 4s 21ms/step - loss: 0.2209 - accuracy: 0.9289 - val_loss: 0.4965 - val_accuracy: 0.8373\n",
      "Epoch 135/150\n",
      "186/186 [==============================] - 4s 22ms/step - loss: 0.2175 - accuracy: 0.9239 - val_loss: 0.4999 - val_accuracy: 0.8443\n",
      "Epoch 136/150\n",
      "186/186 [==============================] - 4s 21ms/step - loss: 0.2239 - accuracy: 0.9235 - val_loss: 0.4744 - val_accuracy: 0.8443\n",
      "Epoch 137/150\n",
      "186/186 [==============================] - 4s 19ms/step - loss: 0.2226 - accuracy: 0.9208 - val_loss: 0.4849 - val_accuracy: 0.8365\n",
      "Epoch 138/150\n",
      "186/186 [==============================] - 4s 20ms/step - loss: 0.2229 - accuracy: 0.9228 - val_loss: 0.5114 - val_accuracy: 0.8428\n",
      "Epoch 139/150\n",
      "186/186 [==============================] - 4s 22ms/step - loss: 0.2175 - accuracy: 0.9296 - val_loss: 0.4692 - val_accuracy: 0.8522\n",
      "Epoch 140/150\n",
      "186/186 [==============================] - 4s 21ms/step - loss: 0.2156 - accuracy: 0.9289 - val_loss: 0.4960 - val_accuracy: 0.8428\n",
      "Epoch 141/150\n",
      "186/186 [==============================] - 4s 20ms/step - loss: 0.2176 - accuracy: 0.9249 - val_loss: 0.4858 - val_accuracy: 0.8530\n",
      "Epoch 142/150\n",
      "186/186 [==============================] - 4s 19ms/step - loss: 0.2025 - accuracy: 0.9370 - val_loss: 0.4934 - val_accuracy: 0.8451\n",
      "Epoch 143/150\n",
      "186/186 [==============================] - 4s 21ms/step - loss: 0.1996 - accuracy: 0.9269 - val_loss: 0.4837 - val_accuracy: 0.8436\n",
      "Epoch 144/150\n",
      "186/186 [==============================] - 4s 21ms/step - loss: 0.2070 - accuracy: 0.9252 - val_loss: 0.4885 - val_accuracy: 0.8341\n",
      "Epoch 145/150\n",
      "186/186 [==============================] - 4s 21ms/step - loss: 0.2009 - accuracy: 0.9296 - val_loss: 0.4916 - val_accuracy: 0.8459\n",
      "Epoch 146/150\n",
      "186/186 [==============================] - 3s 18ms/step - loss: 0.2072 - accuracy: 0.9269 - val_loss: 0.4518 - val_accuracy: 0.8601\n",
      "Epoch 147/150\n",
      "186/186 [==============================] - 4s 21ms/step - loss: 0.2026 - accuracy: 0.9265 - val_loss: 0.4815 - val_accuracy: 0.8553\n",
      "Epoch 148/150\n",
      "186/186 [==============================] - 4s 21ms/step - loss: 0.1924 - accuracy: 0.9340 - val_loss: 0.4966 - val_accuracy: 0.8498\n",
      "Epoch 149/150\n",
      "186/186 [==============================] - 4s 21ms/step - loss: 0.1992 - accuracy: 0.9292 - val_loss: 0.4831 - val_accuracy: 0.8530\n",
      "Epoch 150/150\n",
      "186/186 [==============================] - 3s 17ms/step - loss: 0.1884 - accuracy: 0.9367 - val_loss: 0.5033 - val_accuracy: 0.8522\n"
     ]
    }
   ],
   "source": [
    "model.compile(loss='sparse_categorical_crossentropy',\n",
    "              optimizer=opt,\n",
    "              metrics=['accuracy'])\n",
    "cnnhistory=model.fit(x_traincnn, ytrain, batch_size=16, epochs=150 ,validation_data=(x_testcnn, ytest))"
   ]
  },
  {
   "cell_type": "code",
   "execution_count": 22,
   "metadata": {},
   "outputs": [
    {
     "data": {
      "text/plain": [
       "numpy.ndarray"
      ]
     },
     "execution_count": 22,
     "metadata": {},
     "output_type": "execute_result"
    }
   ],
   "source": [
    "type(x_traincnn)"
   ]
  },
  {
   "cell_type": "code",
   "execution_count": 54,
   "metadata": {},
   "outputs": [],
   "source": [
    "predictions = model.predict_classes(x_testcnn)\n",
    "predicted_index = np.argmax(predictions)"
   ]
  },
  {
   "cell_type": "code",
   "execution_count": 55,
   "metadata": {},
   "outputs": [],
   "source": [
    "new_Ytest = ytest.astype(int)"
   ]
  },
  {
   "cell_type": "code",
   "execution_count": 56,
   "metadata": {},
   "outputs": [
    {
     "name": "stdout",
     "output_type": "stream",
     "text": [
      "              precision    recall  f1-score   support\n",
      "\n",
      "           0       0.96      0.86      0.90       174\n",
      "           1       0.67      0.68      0.67        53\n",
      "           2       0.93      0.82      0.87       196\n",
      "           3       0.79      0.93      0.85       187\n",
      "           4       0.83      0.85      0.84       170\n",
      "           5       0.90      0.85      0.87       142\n",
      "           6       0.83      0.83      0.83       179\n",
      "           7       0.84      0.89      0.86       171\n",
      "\n",
      "    accuracy                           0.85      1272\n",
      "   macro avg       0.84      0.84      0.84      1272\n",
      "weighted avg       0.86      0.85      0.85      1272\n",
      "\n"
     ]
    }
   ],
   "source": [
    "from sklearn.metrics import classification_report\n",
    "report = classification_report(new_Ytest, predictions)\n",
    "print(report)"
   ]
  },
  {
   "cell_type": "code",
   "execution_count": 57,
   "metadata": {},
   "outputs": [
    {
     "data": {
      "text/plain": [
       "(1272, 180, 1)"
      ]
     },
     "execution_count": 57,
     "metadata": {},
     "output_type": "execute_result"
    }
   ],
   "source": [
    "x_testcnn[101] #mistake because it expects a 2d\n",
    "x_testcnn.shape"
   ]
  },
  {
   "cell_type": "code",
   "execution_count": 58,
   "metadata": {},
   "outputs": [
    {
     "name": "stdout",
     "output_type": "stream",
     "text": [
      "[2]\n"
     ]
    }
   ],
   "source": [
    "xt=xtest.iloc[7,:]\n",
    "x1 = np.expand_dims(xt.to_frame().transpose(), axis=2)\n",
    "predictions = model.predict_classes(x1)\n",
    "print(predictions)"
   ]
  },
  {
   "cell_type": "code",
   "execution_count": 59,
   "metadata": {},
   "outputs": [
    {
     "data": {
      "text/plain": [
       "array([2])"
      ]
     },
     "execution_count": 59,
     "metadata": {},
     "output_type": "execute_result"
    }
   ],
   "source": [
    "ytest[7]"
   ]
  },
  {
   "cell_type": "markdown",
   "metadata": {},
   "source": [
    "#### when ever giving input check the shape of the data"
   ]
  },
  {
   "cell_type": "code",
   "execution_count": 60,
   "metadata": {},
   "outputs": [
    {
     "data": {
      "text/plain": [
       "{0: 'angry',\n",
       " 1: 'calm',\n",
       " 2: 'disguist',\n",
       " 3: 'fear',\n",
       " 4: 'happy',\n",
       " 5: 'neutral',\n",
       " 6: 'sad',\n",
       " 7: 'surprised'}"
      ]
     },
     "execution_count": 60,
     "metadata": {},
     "output_type": "execute_result"
    }
   ],
   "source": [
    "emotions"
   ]
  },
  {
   "cell_type": "code",
   "execution_count": 61,
   "metadata": {},
   "outputs": [
    {
     "data": {
      "text/plain": [
       "(1, 180, 1)"
      ]
     },
     "execution_count": 61,
     "metadata": {},
     "output_type": "execute_result"
    }
   ],
   "source": [
    "x1.shape #mistake so we need to transpose and then add another dimension"
   ]
  },
  {
   "cell_type": "code",
   "execution_count": 62,
   "metadata": {},
   "outputs": [
    {
     "data": {
      "text/plain": [
       "(1272, 1)"
      ]
     },
     "execution_count": 62,
     "metadata": {},
     "output_type": "execute_result"
    }
   ],
   "source": [
    "ytest.shape"
   ]
  },
  {
   "cell_type": "code",
   "execution_count": 63,
   "metadata": {},
   "outputs": [
    {
     "data": {
      "text/plain": [
       "array([[1],\n",
       "       [6],\n",
       "       [2],\n",
       "       ...,\n",
       "       [0],\n",
       "       [4],\n",
       "       [5]])"
      ]
     },
     "execution_count": 63,
     "metadata": {},
     "output_type": "execute_result"
    }
   ],
   "source": [
    "ytest"
   ]
  },
  {
   "cell_type": "code",
   "execution_count": 67,
   "metadata": {},
   "outputs": [
    {
     "data": {
      "image/png": "[encoded data removed]",
      "text/plain": [
       "<Figure size 432x288 with 1 Axes>"
      ]
     },
     "metadata": {
      "needs_background": "light"
     },
     "output_type": "display_data"
    }
   ],
   "source": [
    "plt.plot(cnnhistory.history['loss'])\n",
    "plt.plot(cnnhistory.history['val_loss'])\n",
    "plt.title('model loss')\n",
    "plt.ylabel('loss')\n",
    "plt.xlabel('epoch')\n",
    "plt.legend(['train', 'test'], loc='upper left')\n",
    "plt.show()"
   ]
  },
  {
   "cell_type": "code",
   "execution_count": 65,
   "metadata": {},
   "outputs": [
    {
     "data": {
      "image/png": "[encoded data removed]",
      "text/plain": [
       "<Figure size 432x288 with 1 Axes>"
      ]
     },
     "metadata": {
      "needs_background": "light"
     },
     "output_type": "display_data"
    }
   ],
   "source": [
    "plt.plot(cnnhistory.history['accuracy'])\n",
    "plt.plot(cnnhistory.history['val_accuracy'])\n",
    "plt.title('model accuracy')\n",
    "plt.ylabel('accuracy')\n",
    "plt.xlabel('epoch')\n",
    "plt.legend(['train', 'test'], loc='upper left')\n",
    "plt.show()\n"
   ]
  },
  {
   "cell_type": "code",
   "execution_count": 66,
   "metadata": {},
   "outputs": [
    {
     "name": "stdout",
     "output_type": "stream",
     "text": [
      "MODEL SAVED\n"
     ]
    }
   ],
   "source": [
    "model.save('testing10_model.h5')\n",
    "print(\"MODEL SAVED\")"
   ]
  },
  {
   "cell_type": "code",
   "execution_count": 68,
   "metadata": {},
   "outputs": [
    {
     "name": "stdout",
     "output_type": "stream",
     "text": [
      "Model: \"sequential_5\"\n",
      "_________________________________________________________________\n",
      "Layer (type)                 Output Shape              Param #   \n",
      "=================================================================\n",
      "conv1d_15 (Conv1D)           (None, 180, 64)           448       \n",
      "_________________________________________________________________\n",
      "activation_20 (Activation)   (None, 180, 64)           0         \n",
      "_________________________________________________________________\n",
      "dropout_15 (Dropout)         (None, 180, 64)           0         \n",
      "_________________________________________________________________\n",
      "max_pooling1d_10 (MaxPooling (None, 45, 64)            0         \n",
      "_________________________________________________________________\n",
      "conv1d_16 (Conv1D)           (None, 45, 128)           49280     \n",
      "_________________________________________________________________\n",
      "activation_21 (Activation)   (None, 45, 128)           0         \n",
      "_________________________________________________________________\n",
      "dropout_16 (Dropout)         (None, 45, 128)           0         \n",
      "_________________________________________________________________\n",
      "max_pooling1d_11 (MaxPooling (None, 11, 128)           0         \n",
      "_________________________________________________________________\n",
      "conv1d_17 (Conv1D)           (None, 11, 256)           196864    \n",
      "_________________________________________________________________\n",
      "activation_22 (Activation)   (None, 11, 256)           0         \n",
      "_________________________________________________________________\n",
      "dropout_17 (Dropout)         (None, 11, 256)           0         \n",
      "_________________________________________________________________\n",
      "flatten_5 (Flatten)          (None, 2816)              0         \n",
      "_________________________________________________________________\n",
      "dense_5 (Dense)              (None, 8)                 22536     \n",
      "_________________________________________________________________\n",
      "activation_23 (Activation)   (None, 8)                 0         \n",
      "=================================================================\n",
      "Total params: 269,128\n",
      "Trainable params: 269,128\n",
      "Non-trainable params: 0\n",
      "_________________________________________________________________\n"
     ]
    },
    {
     "ename": "NameError",
     "evalue": "name 'y_test' is not defined",
     "output_type": "error",
     "traceback": [
      "\u001b[1;31m---------------------------------------------------------------------------\u001b[0m",
      "\u001b[1;31mNameError\u001b[0m                                 Traceback (most recent call last)",
      "\u001b[1;32m<ipython-input-68-e09c7fe5cfd4>\u001b[0m in \u001b[0;36m<module>\u001b[1;34m\u001b[0m\n\u001b[0;32m      1\u001b[0m \u001b[0mnew_model\u001b[0m\u001b[1;33m=\u001b[0m\u001b[0mkeras\u001b[0m\u001b[1;33m.\u001b[0m\u001b[0mmodels\u001b[0m\u001b[1;33m.\u001b[0m\u001b[0mload_model\u001b[0m\u001b[1;33m(\u001b[0m\u001b[1;34m'testing10_model.h5'\u001b[0m\u001b[1;33m)\u001b[0m\u001b[1;33m\u001b[0m\u001b[1;33m\u001b[0m\u001b[0m\n\u001b[0;32m      2\u001b[0m \u001b[0mnew_model\u001b[0m\u001b[1;33m.\u001b[0m\u001b[0msummary\u001b[0m\u001b[1;33m(\u001b[0m\u001b[1;33m)\u001b[0m\u001b[1;33m\u001b[0m\u001b[1;33m\u001b[0m\u001b[0m\n\u001b[1;32m----> 3\u001b[1;33m \u001b[0mloss\u001b[0m\u001b[1;33m,\u001b[0m \u001b[0macc\u001b[0m \u001b[1;33m=\u001b[0m \u001b[0mnew_model\u001b[0m\u001b[1;33m.\u001b[0m\u001b[0mevaluate\u001b[0m\u001b[1;33m(\u001b[0m\u001b[0mx_testcnn\u001b[0m\u001b[1;33m,\u001b[0m \u001b[0my_test\u001b[0m\u001b[1;33m)\u001b[0m\u001b[1;33m\u001b[0m\u001b[1;33m\u001b[0m\u001b[0m\n\u001b[0m\u001b[0;32m      4\u001b[0m \u001b[0mprint\u001b[0m\u001b[1;33m(\u001b[0m\u001b[1;34m\"Restored model, accuracy: {:5.2f}%\"\u001b[0m\u001b[1;33m.\u001b[0m\u001b[0mformat\u001b[0m\u001b[1;33m(\u001b[0m\u001b[1;36m100\u001b[0m\u001b[1;33m*\u001b[0m\u001b[0macc\u001b[0m\u001b[1;33m)\u001b[0m\u001b[1;33m)\u001b[0m\u001b[1;33m\u001b[0m\u001b[1;33m\u001b[0m\u001b[0m\n",
      "\u001b[1;31mNameError\u001b[0m: name 'y_test' is not defined"
     ]
    }
   ],
   "source": [
    "new_model=keras.models.load_model('testing10_model.h5')\n",
    "new_model.summary()\n",
    "loss, acc = new_model.evaluate(x_testcnn, y_test)\n",
    "print(\"Restored model, accuracy: {:5.2f}%\".format(100*acc))"
   ]
  },
  {
   "cell_type": "code",
   "execution_count": null,
   "metadata": {},
   "outputs": [],
   "source": []
  },
  {
   "cell_type": "code",
   "execution_count": null,
   "metadata": {},
   "outputs": [],
   "source": []
  },
  {
   "cell_type": "code",
   "execution_count": null,
   "metadata": {},
   "outputs": [],
   "source": []
  },
  {
   "cell_type": "code",
   "execution_count": null,
   "metadata": {},
   "outputs": [],
   "source": []
  },
  {
   "cell_type": "code",
   "execution_count": null,
   "metadata": {},
   "outputs": [],
   "source": []
  },
  {
   "cell_type": "code",
   "execution_count": null,
   "metadata": {},
   "outputs": [],
   "source": []
  },
  {
   "cell_type": "code",
   "execution_count": null,
   "metadata": {},
   "outputs": [],
   "source": []
  },
  {
   "cell_type": "code",
   "execution_count": null,
   "metadata": {},
   "outputs": [],
   "source": []
  }
 ],
 "metadata": {
  "kernelspec": {
   "display_name": "Python 3",
   "language": "python",
   "name": "python3"
  },
  "language_info": {
   "codemirror_mode": {
    "name": "ipython",
    "version": 3
   },
   "file_extension": ".py",
   "mimetype": "text/x-python",
   "name": "python",
   "nbconvert_exporter": "python",
   "pygments_lexer": "ipython3",
   "version": "3.8.10"
  }
 },
 "nbformat": 4,
 "nbformat_minor": 4
}
